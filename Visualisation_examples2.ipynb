{
 "cells": [
  {
   "cell_type": "markdown",
   "id": "6740fb4d",
   "metadata": {},
   "source": [
    "\n",
    "### This script contains the following points;\n",
    "### 1. Importing Data and Libraries\n",
    "### 2. Sample Data\n",
    "### 3. Visualisations\n",
    "    3.1 Sales By Hours (Histogram)\n",
    "    3.2 Expenditure by Hours of the Day (Line Chart)\n",
    "    3.3 Orders by Customer Loyalty Categories (Bar Chart)\n",
    "    3.4 Links Between Age and Family Status and Dependants (Line Chart)\n",
    "    3.5 Link Between Age and Spending Power (Scatterplot)\n",
    "\n",
    "\n",
    "### 4. Exporting Data\n",
    "\n"
   ]
  },
  {
   "cell_type": "markdown",
   "id": "acda7d9c",
   "metadata": {},
   "source": [
    "### 1. Importing Data and Libraries"
   ]
  },
  {
   "cell_type": "code",
   "execution_count": 1,
   "id": "193a107b",
   "metadata": {},
   "outputs": [],
   "source": [
    "# importing data and libraries\n",
    "\n",
    "import pandas as pd\n",
    "import numpy as np\n",
    "import os\n",
    "import matplotlib.pyplot as plt\n",
    "import seaborn as sns\n",
    "import scipy"
   ]
  },
  {
   "cell_type": "code",
   "execution_count": 2,
   "id": "4c5fb69c",
   "metadata": {},
   "outputs": [],
   "source": [
    "path = r'C:\\Users\\senja\\OneDrive\\Documents\\5. Learning\\4. Data Analytics Immersion\\Instacart Basket Analysis'"
   ]
  },
  {
   "cell_type": "code",
   "execution_count": 3,
   "id": "3729bde7",
   "metadata": {},
   "outputs": [
    {
     "data": {
      "text/plain": [
       "'C:\\\\Users\\\\senja\\\\OneDrive\\\\Documents\\\\5. Learning\\\\4. Data Analytics Immersion\\\\Instacart Basket Analysis'"
      ]
     },
     "execution_count": 3,
     "metadata": {},
     "output_type": "execute_result"
    }
   ],
   "source": [
    "path"
   ]
  },
  {
   "cell_type": "code",
   "execution_count": 4,
   "id": "edaa5dc7",
   "metadata": {},
   "outputs": [],
   "source": [
    "#import merged customer, product and orders pkl file\n",
    "\n",
    "merged_cop = pd.read_pickle(os.path.join(path, '02 Data', 'Prepared Data', 'merged_cop.pkl'))"
   ]
  },
  {
   "cell_type": "code",
   "execution_count": 5,
   "id": "927dee60",
   "metadata": {},
   "outputs": [
    {
     "data": {
      "text/plain": [
       "(32434212, 33)"
      ]
     },
     "execution_count": 5,
     "metadata": {},
     "output_type": "execute_result"
    }
   ],
   "source": [
    "# check the data \n",
    "\n",
    "merged_cop.shape"
   ]
  },
  {
   "cell_type": "code",
   "execution_count": 6,
   "id": "87330af9",
   "metadata": {
    "scrolled": false
   },
   "outputs": [
    {
     "data": {
      "text/html": [
       "<div>\n",
       "<style scoped>\n",
       "    .dataframe tbody tr th:only-of-type {\n",
       "        vertical-align: middle;\n",
       "    }\n",
       "\n",
       "    .dataframe tbody tr th {\n",
       "        vertical-align: top;\n",
       "    }\n",
       "\n",
       "    .dataframe thead th {\n",
       "        text-align: right;\n",
       "    }\n",
       "</style>\n",
       "<table border=\"1\" class=\"dataframe\">\n",
       "  <thead>\n",
       "    <tr style=\"text-align: right;\">\n",
       "      <th></th>\n",
       "      <th>product_id</th>\n",
       "      <th>product_name</th>\n",
       "      <th>aisle_id</th>\n",
       "      <th>department_id</th>\n",
       "      <th>prices</th>\n",
       "      <th>order_id</th>\n",
       "      <th>user_id</th>\n",
       "      <th>order_number</th>\n",
       "      <th>orders_day_of_week</th>\n",
       "      <th>order_hour_of_day</th>\n",
       "      <th>...</th>\n",
       "      <th>Frequency_flag</th>\n",
       "      <th>first_name</th>\n",
       "      <th>last_name</th>\n",
       "      <th>sex</th>\n",
       "      <th>us_state</th>\n",
       "      <th>age</th>\n",
       "      <th>date_joined</th>\n",
       "      <th>no_dependants</th>\n",
       "      <th>marital_status</th>\n",
       "      <th>income</th>\n",
       "    </tr>\n",
       "  </thead>\n",
       "  <tbody>\n",
       "    <tr>\n",
       "      <th>0</th>\n",
       "      <td>1</td>\n",
       "      <td>Chocolate Sandwich Cookies</td>\n",
       "      <td>61</td>\n",
       "      <td>19</td>\n",
       "      <td>5.8</td>\n",
       "      <td>3139998</td>\n",
       "      <td>138</td>\n",
       "      <td>28</td>\n",
       "      <td>6</td>\n",
       "      <td>11</td>\n",
       "      <td>...</td>\n",
       "      <td>Frequent customer</td>\n",
       "      <td>Charles</td>\n",
       "      <td>Cox</td>\n",
       "      <td>Male</td>\n",
       "      <td>Minnesota</td>\n",
       "      <td>81</td>\n",
       "      <td>8/1/2019</td>\n",
       "      <td>1</td>\n",
       "      <td>married</td>\n",
       "      <td>49620</td>\n",
       "    </tr>\n",
       "    <tr>\n",
       "      <th>1</th>\n",
       "      <td>1</td>\n",
       "      <td>Chocolate Sandwich Cookies</td>\n",
       "      <td>61</td>\n",
       "      <td>19</td>\n",
       "      <td>5.8</td>\n",
       "      <td>1977647</td>\n",
       "      <td>138</td>\n",
       "      <td>30</td>\n",
       "      <td>6</td>\n",
       "      <td>17</td>\n",
       "      <td>...</td>\n",
       "      <td>Frequent customer</td>\n",
       "      <td>Charles</td>\n",
       "      <td>Cox</td>\n",
       "      <td>Male</td>\n",
       "      <td>Minnesota</td>\n",
       "      <td>81</td>\n",
       "      <td>8/1/2019</td>\n",
       "      <td>1</td>\n",
       "      <td>married</td>\n",
       "      <td>49620</td>\n",
       "    </tr>\n",
       "    <tr>\n",
       "      <th>2</th>\n",
       "      <td>907</td>\n",
       "      <td>Premium Sliced Bacon</td>\n",
       "      <td>106</td>\n",
       "      <td>12</td>\n",
       "      <td>20.0</td>\n",
       "      <td>3160996</td>\n",
       "      <td>138</td>\n",
       "      <td>1</td>\n",
       "      <td>5</td>\n",
       "      <td>13</td>\n",
       "      <td>...</td>\n",
       "      <td>Frequent customer</td>\n",
       "      <td>Charles</td>\n",
       "      <td>Cox</td>\n",
       "      <td>Male</td>\n",
       "      <td>Minnesota</td>\n",
       "      <td>81</td>\n",
       "      <td>8/1/2019</td>\n",
       "      <td>1</td>\n",
       "      <td>married</td>\n",
       "      <td>49620</td>\n",
       "    </tr>\n",
       "    <tr>\n",
       "      <th>3</th>\n",
       "      <td>907</td>\n",
       "      <td>Premium Sliced Bacon</td>\n",
       "      <td>106</td>\n",
       "      <td>12</td>\n",
       "      <td>20.0</td>\n",
       "      <td>2254091</td>\n",
       "      <td>138</td>\n",
       "      <td>10</td>\n",
       "      <td>5</td>\n",
       "      <td>14</td>\n",
       "      <td>...</td>\n",
       "      <td>Frequent customer</td>\n",
       "      <td>Charles</td>\n",
       "      <td>Cox</td>\n",
       "      <td>Male</td>\n",
       "      <td>Minnesota</td>\n",
       "      <td>81</td>\n",
       "      <td>8/1/2019</td>\n",
       "      <td>1</td>\n",
       "      <td>married</td>\n",
       "      <td>49620</td>\n",
       "    </tr>\n",
       "    <tr>\n",
       "      <th>4</th>\n",
       "      <td>1000</td>\n",
       "      <td>Apricots</td>\n",
       "      <td>18</td>\n",
       "      <td>10</td>\n",
       "      <td>12.9</td>\n",
       "      <td>505689</td>\n",
       "      <td>138</td>\n",
       "      <td>9</td>\n",
       "      <td>6</td>\n",
       "      <td>12</td>\n",
       "      <td>...</td>\n",
       "      <td>Frequent customer</td>\n",
       "      <td>Charles</td>\n",
       "      <td>Cox</td>\n",
       "      <td>Male</td>\n",
       "      <td>Minnesota</td>\n",
       "      <td>81</td>\n",
       "      <td>8/1/2019</td>\n",
       "      <td>1</td>\n",
       "      <td>married</td>\n",
       "      <td>49620</td>\n",
       "    </tr>\n",
       "  </tbody>\n",
       "</table>\n",
       "<p>5 rows × 33 columns</p>\n",
       "</div>"
      ],
      "text/plain": [
       "   product_id                product_name  aisle_id  department_id  prices  \\\n",
       "0           1  Chocolate Sandwich Cookies        61             19     5.8   \n",
       "1           1  Chocolate Sandwich Cookies        61             19     5.8   \n",
       "2         907        Premium Sliced Bacon       106             12    20.0   \n",
       "3         907        Premium Sliced Bacon       106             12    20.0   \n",
       "4        1000                    Apricots        18             10    12.9   \n",
       "\n",
       "   order_id  user_id  order_number  orders_day_of_week  order_hour_of_day  \\\n",
       "0   3139998      138            28                   6                 11   \n",
       "1   1977647      138            30                   6                 17   \n",
       "2   3160996      138             1                   5                 13   \n",
       "3   2254091      138            10                   5                 14   \n",
       "4    505689      138             9                   6                 12   \n",
       "\n",
       "   ...     Frequency_flag  first_name  last_name   sex   us_state age  \\\n",
       "0  ...  Frequent customer     Charles        Cox  Male  Minnesota  81   \n",
       "1  ...  Frequent customer     Charles        Cox  Male  Minnesota  81   \n",
       "2  ...  Frequent customer     Charles        Cox  Male  Minnesota  81   \n",
       "3  ...  Frequent customer     Charles        Cox  Male  Minnesota  81   \n",
       "4  ...  Frequent customer     Charles        Cox  Male  Minnesota  81   \n",
       "\n",
       "  date_joined no_dependants  marital_status income  \n",
       "0    8/1/2019             1         married  49620  \n",
       "1    8/1/2019             1         married  49620  \n",
       "2    8/1/2019             1         married  49620  \n",
       "3    8/1/2019             1         married  49620  \n",
       "4    8/1/2019             1         married  49620  \n",
       "\n",
       "[5 rows x 33 columns]"
      ]
     },
     "execution_count": 6,
     "metadata": {},
     "output_type": "execute_result"
    }
   ],
   "source": [
    "merged_cop.head()"
   ]
  },
  {
   "cell_type": "markdown",
   "id": "60bf9eda",
   "metadata": {},
   "source": [
    "### 2. Sample Data "
   ]
  },
  {
   "cell_type": "code",
   "execution_count": 7,
   "id": "aa283199",
   "metadata": {},
   "outputs": [],
   "source": [
    "np.random.seed(4)"
   ]
  },
  {
   "cell_type": "code",
   "execution_count": 8,
   "id": "54aa7f3d",
   "metadata": {},
   "outputs": [],
   "source": [
    "#create a list holding true/false values to test np.random.rand() <= 0.7\n",
    "\n",
    "dev = np.random.rand(len(merged_cop)) <= 0.7"
   ]
  },
  {
   "cell_type": "code",
   "execution_count": 9,
   "id": "8fda5471",
   "metadata": {},
   "outputs": [
    {
     "data": {
      "text/plain": [
       "array([False,  True, False, ..., False,  True,  True])"
      ]
     },
     "execution_count": 9,
     "metadata": {},
     "output_type": "execute_result"
    }
   ],
   "source": [
    "dev"
   ]
  },
  {
   "cell_type": "code",
   "execution_count": 10,
   "id": "94b6aec6",
   "metadata": {},
   "outputs": [],
   "source": [
    "# store 70% of the sample in the dataframe big\n",
    "\n",
    "big = merged_cop[dev]"
   ]
  },
  {
   "cell_type": "code",
   "execution_count": 11,
   "id": "21ac9e0a",
   "metadata": {},
   "outputs": [],
   "source": [
    "# store 30% of the sample in the dataframe small\n",
    "\n",
    "small = merged_cop[~dev]"
   ]
  },
  {
   "cell_type": "code",
   "execution_count": 12,
   "id": "1745f34a",
   "metadata": {},
   "outputs": [
    {
     "data": {
      "text/plain": [
       "32434212"
      ]
     },
     "execution_count": 12,
     "metadata": {},
     "output_type": "execute_result"
    }
   ],
   "source": [
    "len(merged_cop)"
   ]
  },
  {
   "cell_type": "code",
   "execution_count": 13,
   "id": "502f8948",
   "metadata": {},
   "outputs": [
    {
     "data": {
      "text/plain": [
       "32434212"
      ]
     },
     "execution_count": 13,
     "metadata": {},
     "output_type": "execute_result"
    }
   ],
   "source": [
    "len(big) + len(small)"
   ]
  },
  {
   "cell_type": "markdown",
   "id": "c616e3aa",
   "metadata": {},
   "source": [
    "#### the \"small\" sample data frame are used for visualisations when ever appropriate"
   ]
  },
  {
   "cell_type": "markdown",
   "id": "9be74fcd",
   "metadata": {},
   "source": [
    "### 3. Visualisations"
   ]
  },
  {
   "cell_type": "markdown",
   "id": "b93aecbc",
   "metadata": {},
   "source": [
    "### 3.1  Sales By Hours (Histogram)"
   ]
  },
  {
   "cell_type": "code",
   "execution_count": 14,
   "id": "af1fb6bf",
   "metadata": {},
   "outputs": [],
   "source": [
    "# create the subset from small data frame with only price and hours of the day data\n",
    "\n",
    "df_3 = small[['order_hour_of_day','prices']]"
   ]
  },
  {
   "cell_type": "code",
   "execution_count": 15,
   "id": "7081351c",
   "metadata": {
    "scrolled": true
   },
   "outputs": [
    {
     "data": {
      "text/html": [
       "<div>\n",
       "<style scoped>\n",
       "    .dataframe tbody tr th:only-of-type {\n",
       "        vertical-align: middle;\n",
       "    }\n",
       "\n",
       "    .dataframe tbody tr th {\n",
       "        vertical-align: top;\n",
       "    }\n",
       "\n",
       "    .dataframe thead th {\n",
       "        text-align: right;\n",
       "    }\n",
       "</style>\n",
       "<table border=\"1\" class=\"dataframe\">\n",
       "  <thead>\n",
       "    <tr style=\"text-align: right;\">\n",
       "      <th></th>\n",
       "      <th>order_hour_of_day</th>\n",
       "      <th>prices</th>\n",
       "    </tr>\n",
       "  </thead>\n",
       "  <tbody>\n",
       "    <tr>\n",
       "      <th>0</th>\n",
       "      <td>11</td>\n",
       "      <td>5.8</td>\n",
       "    </tr>\n",
       "    <tr>\n",
       "      <th>2</th>\n",
       "      <td>13</td>\n",
       "      <td>20.0</td>\n",
       "    </tr>\n",
       "    <tr>\n",
       "      <th>3</th>\n",
       "      <td>14</td>\n",
       "      <td>20.0</td>\n",
       "    </tr>\n",
       "    <tr>\n",
       "      <th>6</th>\n",
       "      <td>13</td>\n",
       "      <td>4.4</td>\n",
       "    </tr>\n",
       "    <tr>\n",
       "      <th>10</th>\n",
       "      <td>9</td>\n",
       "      <td>12.8</td>\n",
       "    </tr>\n",
       "    <tr>\n",
       "      <th>...</th>\n",
       "      <td>...</td>\n",
       "      <td>...</td>\n",
       "    </tr>\n",
       "    <tr>\n",
       "      <th>32434188</th>\n",
       "      <td>13</td>\n",
       "      <td>2.3</td>\n",
       "    </tr>\n",
       "    <tr>\n",
       "      <th>32434191</th>\n",
       "      <td>8</td>\n",
       "      <td>11.5</td>\n",
       "    </tr>\n",
       "    <tr>\n",
       "      <th>32434199</th>\n",
       "      <td>7</td>\n",
       "      <td>1.8</td>\n",
       "    </tr>\n",
       "    <tr>\n",
       "      <th>32434204</th>\n",
       "      <td>10</td>\n",
       "      <td>1.8</td>\n",
       "    </tr>\n",
       "    <tr>\n",
       "      <th>32434209</th>\n",
       "      <td>15</td>\n",
       "      <td>7.5</td>\n",
       "    </tr>\n",
       "  </tbody>\n",
       "</table>\n",
       "<p>9729729 rows × 2 columns</p>\n",
       "</div>"
      ],
      "text/plain": [
       "          order_hour_of_day  prices\n",
       "0                        11     5.8\n",
       "2                        13    20.0\n",
       "3                        14    20.0\n",
       "6                        13     4.4\n",
       "10                        9    12.8\n",
       "...                     ...     ...\n",
       "32434188                 13     2.3\n",
       "32434191                  8    11.5\n",
       "32434199                  7     1.8\n",
       "32434204                 10     1.8\n",
       "32434209                 15     7.5\n",
       "\n",
       "[9729729 rows x 2 columns]"
      ]
     },
     "execution_count": 15,
     "metadata": {},
     "output_type": "execute_result"
    }
   ],
   "source": [
    "df_3"
   ]
  },
  {
   "cell_type": "code",
   "execution_count": 16,
   "id": "eb9fc92e",
   "metadata": {
    "scrolled": true
   },
   "outputs": [
    {
     "data": {
      "text/plain": [
       "count    9.728180e+06\n",
       "mean     7.794620e+00\n",
       "std      4.242234e+00\n",
       "min      1.000000e+00\n",
       "25%      4.200000e+00\n",
       "50%      7.400000e+00\n",
       "75%      1.130000e+01\n",
       "max      2.500000e+01\n",
       "Name: prices, dtype: float64"
      ]
     },
     "execution_count": 16,
     "metadata": {},
     "output_type": "execute_result"
    }
   ],
   "source": [
    "# check the prices on sample small data\n",
    "\n",
    "df_3['prices'].describe()"
   ]
  },
  {
   "cell_type": "code",
   "execution_count": 17,
   "id": "b35ac996",
   "metadata": {},
   "outputs": [
    {
     "data": {
      "text/plain": [
       "count    3.242908e+07\n",
       "mean     7.795704e+00\n",
       "std      4.243149e+00\n",
       "min      1.000000e+00\n",
       "25%      4.200000e+00\n",
       "50%      7.400000e+00\n",
       "75%      1.130000e+01\n",
       "max      2.500000e+01\n",
       "Name: prices, dtype: float64"
      ]
     },
     "execution_count": 17,
     "metadata": {},
     "output_type": "execute_result"
    }
   ],
   "source": [
    "# compare the prices with main data frame\n",
    "\n",
    "merged_cop['prices'].describe()"
   ]
  },
  {
   "cell_type": "code",
   "execution_count": 18,
   "id": "5b0e97ac",
   "metadata": {
    "scrolled": true
   },
   "outputs": [
    {
     "data": {
      "text/plain": [
       "count    9.729729e+06\n",
       "mean     1.342407e+01\n",
       "std      4.246574e+00\n",
       "min      0.000000e+00\n",
       "25%      1.000000e+01\n",
       "50%      1.300000e+01\n",
       "75%      1.600000e+01\n",
       "max      2.300000e+01\n",
       "Name: order_hour_of_day, dtype: float64"
      ]
     },
     "execution_count": 18,
     "metadata": {},
     "output_type": "execute_result"
    }
   ],
   "source": [
    "# check the hours on sample small data\n",
    "\n",
    "df_3['order_hour_of_day'].describe()"
   ]
  },
  {
   "cell_type": "code",
   "execution_count": 19,
   "id": "390c449b",
   "metadata": {},
   "outputs": [
    {
     "data": {
      "text/plain": [
       "count    3.243421e+07\n",
       "mean     1.342500e+01\n",
       "std      4.246351e+00\n",
       "min      0.000000e+00\n",
       "25%      1.000000e+01\n",
       "50%      1.300000e+01\n",
       "75%      1.600000e+01\n",
       "max      2.300000e+01\n",
       "Name: order_hour_of_day, dtype: float64"
      ]
     },
     "execution_count": 19,
     "metadata": {},
     "output_type": "execute_result"
    }
   ],
   "source": [
    "# comprate hours with the main data frame\n",
    "\n",
    "merged_cop['order_hour_of_day'].describe()"
   ]
  },
  {
   "cell_type": "code",
   "execution_count": 20,
   "id": "76a59051",
   "metadata": {
    "scrolled": false
   },
   "outputs": [
    {
     "data": {
      "image/png": "[encoded data removed]",
      "text/plain": [
       "<Figure size 432x288 with 1 Axes>"
      ]
     },
     "metadata": {
      "needs_background": "light"
     },
     "output_type": "display_data"
    }
   ],
   "source": [
    "# create the histogram for df_1 data (task 3)\n",
    "\n",
    "hist_1 = df_3['order_hour_of_day'].plot.hist(bins = 23)"
   ]
  },
  {
   "cell_type": "markdown",
   "id": "2391f436",
   "metadata": {},
   "source": [
    "#### Histogram shows that the most orders are placed between 9am and 5pm, and the peak is between 10am and 11am. The lowest numbers of items have been bought between 3am and 5am"
   ]
  },
  {
   "cell_type": "code",
   "execution_count": 21,
   "id": "45f3b32f",
   "metadata": {},
   "outputs": [],
   "source": [
    "hist_1.figure.savefig(os.path.join(path, '04 Analysis','Visualisations', 'hist_1_order_hour_of_day.png'))"
   ]
  },
  {
   "cell_type": "markdown",
   "id": "a256b9e8",
   "metadata": {},
   "source": [
    "### 3.2 Expenditure by Hours of the Day (Line Chart)"
   ]
  },
  {
   "cell_type": "code",
   "execution_count": 22,
   "id": "bd2469f6",
   "metadata": {
    "scrolled": true
   },
   "outputs": [
    {
     "data": {
      "image/png": "[encoded data removed]",
      "text/plain": [
       "<Figure size 432x288 with 1 Axes>"
      ]
     },
     "metadata": {
      "needs_background": "light"
     },
     "output_type": "display_data"
    }
   ],
   "source": [
    "# create line chart to compare the 'prices' with 'the hour of the day' (task no 5)\n",
    "\n",
    "line = sns.lineplot(data = df_3, x = 'order_hour_of_day',y = 'prices')"
   ]
  },
  {
   "cell_type": "markdown",
   "id": "e832b4a2",
   "metadata": {},
   "source": [
    "#### The most expensive items are bought in early hours; between 3am and 4am"
   ]
  },
  {
   "cell_type": "markdown",
   "id": "6cf13aab",
   "metadata": {},
   "source": [
    "### 3.3 Orders by Customer Loyalty Categories (Bar Chart)"
   ]
  },
  {
   "cell_type": "code",
   "execution_count": 23,
   "id": "8eec04de",
   "metadata": {},
   "outputs": [],
   "source": [
    "# create the subset from small data frame with only user_id and order_number\n",
    "\n",
    "df_4 = small[['user_id','order_number']]"
   ]
  },
  {
   "cell_type": "code",
   "execution_count": 24,
   "id": "845103c1",
   "metadata": {
    "scrolled": false
   },
   "outputs": [
    {
     "data": {
      "text/html": [
       "<div>\n",
       "<style scoped>\n",
       "    .dataframe tbody tr th:only-of-type {\n",
       "        vertical-align: middle;\n",
       "    }\n",
       "\n",
       "    .dataframe tbody tr th {\n",
       "        vertical-align: top;\n",
       "    }\n",
       "\n",
       "    .dataframe thead th {\n",
       "        text-align: right;\n",
       "    }\n",
       "</style>\n",
       "<table border=\"1\" class=\"dataframe\">\n",
       "  <thead>\n",
       "    <tr style=\"text-align: right;\">\n",
       "      <th></th>\n",
       "      <th>user_id</th>\n",
       "      <th>order_number</th>\n",
       "    </tr>\n",
       "  </thead>\n",
       "  <tbody>\n",
       "    <tr>\n",
       "      <th>0</th>\n",
       "      <td>138</td>\n",
       "      <td>28</td>\n",
       "    </tr>\n",
       "    <tr>\n",
       "      <th>2</th>\n",
       "      <td>138</td>\n",
       "      <td>1</td>\n",
       "    </tr>\n",
       "    <tr>\n",
       "      <th>3</th>\n",
       "      <td>138</td>\n",
       "      <td>10</td>\n",
       "    </tr>\n",
       "    <tr>\n",
       "      <th>6</th>\n",
       "      <td>138</td>\n",
       "      <td>23</td>\n",
       "    </tr>\n",
       "    <tr>\n",
       "      <th>10</th>\n",
       "      <td>138</td>\n",
       "      <td>5</td>\n",
       "    </tr>\n",
       "    <tr>\n",
       "      <th>...</th>\n",
       "      <td>...</td>\n",
       "      <td>...</td>\n",
       "    </tr>\n",
       "    <tr>\n",
       "      <th>32434188</th>\n",
       "      <td>31628</td>\n",
       "      <td>5</td>\n",
       "    </tr>\n",
       "    <tr>\n",
       "      <th>32434191</th>\n",
       "      <td>136325</td>\n",
       "      <td>3</td>\n",
       "    </tr>\n",
       "    <tr>\n",
       "      <th>32434199</th>\n",
       "      <td>27382</td>\n",
       "      <td>8</td>\n",
       "    </tr>\n",
       "    <tr>\n",
       "      <th>32434204</th>\n",
       "      <td>56454</td>\n",
       "      <td>4</td>\n",
       "    </tr>\n",
       "    <tr>\n",
       "      <th>32434209</th>\n",
       "      <td>74506</td>\n",
       "      <td>2</td>\n",
       "    </tr>\n",
       "  </tbody>\n",
       "</table>\n",
       "<p>9729729 rows × 2 columns</p>\n",
       "</div>"
      ],
      "text/plain": [
       "          user_id  order_number\n",
       "0             138            28\n",
       "2             138             1\n",
       "3             138            10\n",
       "6             138            23\n",
       "10            138             5\n",
       "...           ...           ...\n",
       "32434188    31628             5\n",
       "32434191   136325             3\n",
       "32434199    27382             8\n",
       "32434204    56454             4\n",
       "32434209    74506             2\n",
       "\n",
       "[9729729 rows x 2 columns]"
      ]
     },
     "execution_count": 24,
     "metadata": {},
     "output_type": "execute_result"
    }
   ],
   "source": [
    "df_4"
   ]
  },
  {
   "cell_type": "code",
   "execution_count": 25,
   "id": "d0e186d0",
   "metadata": {
    "scrolled": false
   },
   "outputs": [
    {
     "data": {
      "text/html": [
       "<div>\n",
       "<style scoped>\n",
       "    .dataframe tbody tr th:only-of-type {\n",
       "        vertical-align: middle;\n",
       "    }\n",
       "\n",
       "    .dataframe tbody tr th {\n",
       "        vertical-align: top;\n",
       "    }\n",
       "\n",
       "    .dataframe thead th {\n",
       "        text-align: right;\n",
       "    }\n",
       "</style>\n",
       "<table border=\"1\" class=\"dataframe\">\n",
       "  <thead>\n",
       "    <tr style=\"text-align: right;\">\n",
       "      <th></th>\n",
       "      <th>user_id</th>\n",
       "      <th>order_number</th>\n",
       "    </tr>\n",
       "  </thead>\n",
       "  <tbody>\n",
       "    <tr>\n",
       "      <th>count</th>\n",
       "      <td>9.729729e+06</td>\n",
       "      <td>9.729729e+06</td>\n",
       "    </tr>\n",
       "    <tr>\n",
       "      <th>mean</th>\n",
       "      <td>1.029238e+05</td>\n",
       "      <td>1.714131e+01</td>\n",
       "    </tr>\n",
       "    <tr>\n",
       "      <th>std</th>\n",
       "      <td>5.946358e+04</td>\n",
       "      <td>1.753525e+01</td>\n",
       "    </tr>\n",
       "    <tr>\n",
       "      <th>min</th>\n",
       "      <td>1.000000e+00</td>\n",
       "      <td>1.000000e+00</td>\n",
       "    </tr>\n",
       "    <tr>\n",
       "      <th>25%</th>\n",
       "      <td>5.141200e+04</td>\n",
       "      <td>5.000000e+00</td>\n",
       "    </tr>\n",
       "    <tr>\n",
       "      <th>50%</th>\n",
       "      <td>1.025900e+05</td>\n",
       "      <td>1.100000e+01</td>\n",
       "    </tr>\n",
       "    <tr>\n",
       "      <th>75%</th>\n",
       "      <td>1.543650e+05</td>\n",
       "      <td>2.400000e+01</td>\n",
       "    </tr>\n",
       "    <tr>\n",
       "      <th>max</th>\n",
       "      <td>2.062090e+05</td>\n",
       "      <td>9.900000e+01</td>\n",
       "    </tr>\n",
       "  </tbody>\n",
       "</table>\n",
       "</div>"
      ],
      "text/plain": [
       "            user_id  order_number\n",
       "count  9.729729e+06  9.729729e+06\n",
       "mean   1.029238e+05  1.714131e+01\n",
       "std    5.946358e+04  1.753525e+01\n",
       "min    1.000000e+00  1.000000e+00\n",
       "25%    5.141200e+04  5.000000e+00\n",
       "50%    1.025900e+05  1.100000e+01\n",
       "75%    1.543650e+05  2.400000e+01\n",
       "max    2.062090e+05  9.900000e+01"
      ]
     },
     "execution_count": 25,
     "metadata": {},
     "output_type": "execute_result"
    }
   ],
   "source": [
    "df_4.describe()"
   ]
  },
  {
   "cell_type": "code",
   "execution_count": 26,
   "id": "5b86fda3",
   "metadata": {
    "scrolled": false
   },
   "outputs": [
    {
     "data": {
      "text/plain": [
       "(9729729, 2)"
      ]
     },
     "execution_count": 26,
     "metadata": {},
     "output_type": "execute_result"
    }
   ],
   "source": [
    "df_4.shape"
   ]
  },
  {
   "cell_type": "code",
   "execution_count": 27,
   "id": "0df62045",
   "metadata": {
    "scrolled": true
   },
   "outputs": [
    {
     "data": {
      "text/plain": [
       "17.141313493931847"
      ]
     },
     "execution_count": 27,
     "metadata": {},
     "output_type": "execute_result"
    }
   ],
   "source": [
    "df_4['order_number'].mean()"
   ]
  },
  {
   "cell_type": "code",
   "execution_count": 28,
   "id": "feccdf50",
   "metadata": {},
   "outputs": [
    {
     "data": {
      "text/plain": [
       "11.0"
      ]
     },
     "execution_count": 28,
     "metadata": {},
     "output_type": "execute_result"
    }
   ],
   "source": [
    "df_4['order_number'].median()"
   ]
  },
  {
   "cell_type": "code",
   "execution_count": 29,
   "id": "935aafd2",
   "metadata": {},
   "outputs": [
    {
     "data": {
      "text/plain": [
       "1"
      ]
     },
     "execution_count": 29,
     "metadata": {},
     "output_type": "execute_result"
    }
   ],
   "source": [
    "df_4['order_number'].min()"
   ]
  },
  {
   "cell_type": "code",
   "execution_count": 30,
   "id": "8fbd8cb2",
   "metadata": {},
   "outputs": [
    {
     "data": {
      "text/plain": [
       "99"
      ]
     },
     "execution_count": 30,
     "metadata": {},
     "output_type": "execute_result"
    }
   ],
   "source": [
    "df_4['order_number'].max()"
   ]
  },
  {
   "cell_type": "markdown",
   "id": "989e6a1a",
   "metadata": {},
   "source": [
    "#### To create the 3 customers groups. The mean of \"order_number\" variant is 17.14. The customers who haved ordered more than 36 times per year / approximately 3 orders per month represent the loyal customer group. The new customers are those who have orderd 12 times or less, and the regular customers are those who have placed orders more than once a month (between 13 and 35 orders)."
   ]
  },
  {
   "cell_type": "code",
   "execution_count": 31,
   "id": "02ea4ebf",
   "metadata": {
    "scrolled": true
   },
   "outputs": [
    {
     "name": "stderr",
     "output_type": "stream",
     "text": [
      "<ipython-input-31-ada4ab8bafbc>:3: SettingWithCopyWarning: \n",
      "A value is trying to be set on a copy of a slice from a DataFrame.\n",
      "Try using .loc[row_indexer,col_indexer] = value instead\n",
      "\n",
      "See the caveats in the documentation: https://pandas.pydata.org/pandas-docs/stable/user_guide/indexing.html#returning-a-view-versus-a-copy\n",
      "  df_4['max_order'] = df_4.groupby(['user_id'])['order_number'].transform(np.max)\n"
     ]
    }
   ],
   "source": [
    "# establish flag criteria - create “max_order” column, group “user_id” column, generate maximum orders on “order_number”\n",
    "\n",
    "df_4['max_order'] = df_4.groupby(['user_id'])['order_number'].transform(np.max)"
   ]
  },
  {
   "cell_type": "code",
   "execution_count": 32,
   "id": "9233be91",
   "metadata": {
    "scrolled": true
   },
   "outputs": [
    {
     "name": "stderr",
     "output_type": "stream",
     "text": [
      "C:\\Users\\senja\\anaconda3\\lib\\site-packages\\pandas\\core\\indexing.py:1599: SettingWithCopyWarning: \n",
      "A value is trying to be set on a copy of a slice from a DataFrame.\n",
      "Try using .loc[row_indexer,col_indexer] = value instead\n",
      "\n",
      "See the caveats in the documentation: https://pandas.pydata.org/pandas-docs/stable/user_guide/indexing.html#returning-a-view-versus-a-copy\n",
      "  self.obj[key] = infer_fill_value(value)\n",
      "C:\\Users\\senja\\anaconda3\\lib\\site-packages\\pandas\\core\\indexing.py:1720: SettingWithCopyWarning: \n",
      "A value is trying to be set on a copy of a slice from a DataFrame.\n",
      "Try using .loc[row_indexer,col_indexer] = value instead\n",
      "\n",
      "See the caveats in the documentation: https://pandas.pydata.org/pandas-docs/stable/user_guide/indexing.html#returning-a-view-versus-a-copy\n",
      "  self._setitem_single_column(loc, value, pi)\n"
     ]
    }
   ],
   "source": [
    "# deriving columns with loc()\n",
    "\n",
    "df_4.loc[df_4['max_order'] >= 36.00, 'loyalty_flag'] = 'Loyal customer'"
   ]
  },
  {
   "cell_type": "code",
   "execution_count": 33,
   "id": "ac2a936b",
   "metadata": {},
   "outputs": [
    {
     "name": "stderr",
     "output_type": "stream",
     "text": [
      "C:\\Users\\senja\\anaconda3\\lib\\site-packages\\pandas\\core\\indexing.py:1720: SettingWithCopyWarning: \n",
      "A value is trying to be set on a copy of a slice from a DataFrame.\n",
      "Try using .loc[row_indexer,col_indexer] = value instead\n",
      "\n",
      "See the caveats in the documentation: https://pandas.pydata.org/pandas-docs/stable/user_guide/indexing.html#returning-a-view-versus-a-copy\n",
      "  self._setitem_single_column(loc, value, pi)\n"
     ]
    }
   ],
   "source": [
    "df_4.loc[(df_4['max_order'] < 36.00) & (df_4['max_order'] > 12.00), 'loyalty_flag'] = 'Regular customer'"
   ]
  },
  {
   "cell_type": "code",
   "execution_count": 34,
   "id": "890a912a",
   "metadata": {},
   "outputs": [
    {
     "name": "stderr",
     "output_type": "stream",
     "text": [
      "C:\\Users\\senja\\anaconda3\\lib\\site-packages\\pandas\\core\\indexing.py:1720: SettingWithCopyWarning: \n",
      "A value is trying to be set on a copy of a slice from a DataFrame.\n",
      "Try using .loc[row_indexer,col_indexer] = value instead\n",
      "\n",
      "See the caveats in the documentation: https://pandas.pydata.org/pandas-docs/stable/user_guide/indexing.html#returning-a-view-versus-a-copy\n",
      "  self._setitem_single_column(loc, value, pi)\n"
     ]
    }
   ],
   "source": [
    "df_4.loc[df_4['max_order'] <= 12.00, 'loyalty_flag'] = 'New customer'"
   ]
  },
  {
   "cell_type": "code",
   "execution_count": 35,
   "id": "4460e924",
   "metadata": {
    "scrolled": true
   },
   "outputs": [
    {
     "data": {
      "text/plain": [
       "Regular customer    3750421\n",
       "Loyal customer      3630245\n",
       "New customer        2349063\n",
       "Name: loyalty_flag, dtype: int64"
      ]
     },
     "execution_count": 35,
     "metadata": {},
     "output_type": "execute_result"
    }
   ],
   "source": [
    "df_4['loyalty_flag'].value_counts(dropna = False)"
   ]
  },
  {
   "cell_type": "code",
   "execution_count": 36,
   "id": "250ed96b",
   "metadata": {
    "scrolled": false
   },
   "outputs": [
    {
     "data": {
      "text/html": [
       "<div>\n",
       "<style scoped>\n",
       "    .dataframe tbody tr th:only-of-type {\n",
       "        vertical-align: middle;\n",
       "    }\n",
       "\n",
       "    .dataframe tbody tr th {\n",
       "        vertical-align: top;\n",
       "    }\n",
       "\n",
       "    .dataframe thead th {\n",
       "        text-align: right;\n",
       "    }\n",
       "</style>\n",
       "<table border=\"1\" class=\"dataframe\">\n",
       "  <thead>\n",
       "    <tr style=\"text-align: right;\">\n",
       "      <th></th>\n",
       "      <th>user_id</th>\n",
       "      <th>loyalty_flag</th>\n",
       "      <th>order_number</th>\n",
       "    </tr>\n",
       "  </thead>\n",
       "  <tbody>\n",
       "    <tr>\n",
       "      <th>0</th>\n",
       "      <td>138</td>\n",
       "      <td>Regular customer</td>\n",
       "      <td>28</td>\n",
       "    </tr>\n",
       "    <tr>\n",
       "      <th>2</th>\n",
       "      <td>138</td>\n",
       "      <td>Regular customer</td>\n",
       "      <td>1</td>\n",
       "    </tr>\n",
       "    <tr>\n",
       "      <th>3</th>\n",
       "      <td>138</td>\n",
       "      <td>Regular customer</td>\n",
       "      <td>10</td>\n",
       "    </tr>\n",
       "    <tr>\n",
       "      <th>6</th>\n",
       "      <td>138</td>\n",
       "      <td>Regular customer</td>\n",
       "      <td>23</td>\n",
       "    </tr>\n",
       "    <tr>\n",
       "      <th>10</th>\n",
       "      <td>138</td>\n",
       "      <td>Regular customer</td>\n",
       "      <td>5</td>\n",
       "    </tr>\n",
       "    <tr>\n",
       "      <th>12</th>\n",
       "      <td>138</td>\n",
       "      <td>Regular customer</td>\n",
       "      <td>3</td>\n",
       "    </tr>\n",
       "    <tr>\n",
       "      <th>13</th>\n",
       "      <td>138</td>\n",
       "      <td>Regular customer</td>\n",
       "      <td>1</td>\n",
       "    </tr>\n",
       "    <tr>\n",
       "      <th>19</th>\n",
       "      <td>138</td>\n",
       "      <td>Regular customer</td>\n",
       "      <td>8</td>\n",
       "    </tr>\n",
       "    <tr>\n",
       "      <th>21</th>\n",
       "      <td>138</td>\n",
       "      <td>Regular customer</td>\n",
       "      <td>14</td>\n",
       "    </tr>\n",
       "    <tr>\n",
       "      <th>22</th>\n",
       "      <td>138</td>\n",
       "      <td>Regular customer</td>\n",
       "      <td>15</td>\n",
       "    </tr>\n",
       "    <tr>\n",
       "      <th>23</th>\n",
       "      <td>138</td>\n",
       "      <td>Regular customer</td>\n",
       "      <td>16</td>\n",
       "    </tr>\n",
       "    <tr>\n",
       "      <th>28</th>\n",
       "      <td>138</td>\n",
       "      <td>Regular customer</td>\n",
       "      <td>25</td>\n",
       "    </tr>\n",
       "    <tr>\n",
       "      <th>31</th>\n",
       "      <td>138</td>\n",
       "      <td>Regular customer</td>\n",
       "      <td>1</td>\n",
       "    </tr>\n",
       "    <tr>\n",
       "      <th>42</th>\n",
       "      <td>138</td>\n",
       "      <td>Regular customer</td>\n",
       "      <td>9</td>\n",
       "    </tr>\n",
       "    <tr>\n",
       "      <th>50</th>\n",
       "      <td>138</td>\n",
       "      <td>Regular customer</td>\n",
       "      <td>1</td>\n",
       "    </tr>\n",
       "    <tr>\n",
       "      <th>56</th>\n",
       "      <td>138</td>\n",
       "      <td>Regular customer</td>\n",
       "      <td>13</td>\n",
       "    </tr>\n",
       "    <tr>\n",
       "      <th>58</th>\n",
       "      <td>138</td>\n",
       "      <td>Regular customer</td>\n",
       "      <td>16</td>\n",
       "    </tr>\n",
       "    <tr>\n",
       "      <th>60</th>\n",
       "      <td>138</td>\n",
       "      <td>Regular customer</td>\n",
       "      <td>2</td>\n",
       "    </tr>\n",
       "    <tr>\n",
       "      <th>64</th>\n",
       "      <td>138</td>\n",
       "      <td>Regular customer</td>\n",
       "      <td>7</td>\n",
       "    </tr>\n",
       "    <tr>\n",
       "      <th>65</th>\n",
       "      <td>138</td>\n",
       "      <td>Regular customer</td>\n",
       "      <td>13</td>\n",
       "    </tr>\n",
       "    <tr>\n",
       "      <th>70</th>\n",
       "      <td>138</td>\n",
       "      <td>Regular customer</td>\n",
       "      <td>16</td>\n",
       "    </tr>\n",
       "    <tr>\n",
       "      <th>71</th>\n",
       "      <td>138</td>\n",
       "      <td>Regular customer</td>\n",
       "      <td>1</td>\n",
       "    </tr>\n",
       "    <tr>\n",
       "      <th>79</th>\n",
       "      <td>138</td>\n",
       "      <td>Regular customer</td>\n",
       "      <td>28</td>\n",
       "    </tr>\n",
       "    <tr>\n",
       "      <th>85</th>\n",
       "      <td>138</td>\n",
       "      <td>Regular customer</td>\n",
       "      <td>14</td>\n",
       "    </tr>\n",
       "    <tr>\n",
       "      <th>87</th>\n",
       "      <td>138</td>\n",
       "      <td>Regular customer</td>\n",
       "      <td>3</td>\n",
       "    </tr>\n",
       "    <tr>\n",
       "      <th>89</th>\n",
       "      <td>138</td>\n",
       "      <td>Regular customer</td>\n",
       "      <td>10</td>\n",
       "    </tr>\n",
       "    <tr>\n",
       "      <th>93</th>\n",
       "      <td>138</td>\n",
       "      <td>Regular customer</td>\n",
       "      <td>7</td>\n",
       "    </tr>\n",
       "    <tr>\n",
       "      <th>103</th>\n",
       "      <td>138</td>\n",
       "      <td>Regular customer</td>\n",
       "      <td>15</td>\n",
       "    </tr>\n",
       "    <tr>\n",
       "      <th>104</th>\n",
       "      <td>138</td>\n",
       "      <td>Regular customer</td>\n",
       "      <td>27</td>\n",
       "    </tr>\n",
       "    <tr>\n",
       "      <th>107</th>\n",
       "      <td>138</td>\n",
       "      <td>Regular customer</td>\n",
       "      <td>14</td>\n",
       "    </tr>\n",
       "    <tr>\n",
       "      <th>109</th>\n",
       "      <td>138</td>\n",
       "      <td>Regular customer</td>\n",
       "      <td>26</td>\n",
       "    </tr>\n",
       "    <tr>\n",
       "      <th>114</th>\n",
       "      <td>138</td>\n",
       "      <td>Regular customer</td>\n",
       "      <td>13</td>\n",
       "    </tr>\n",
       "    <tr>\n",
       "      <th>115</th>\n",
       "      <td>138</td>\n",
       "      <td>Regular customer</td>\n",
       "      <td>17</td>\n",
       "    </tr>\n",
       "    <tr>\n",
       "      <th>117</th>\n",
       "      <td>138</td>\n",
       "      <td>Regular customer</td>\n",
       "      <td>31</td>\n",
       "    </tr>\n",
       "    <tr>\n",
       "      <th>119</th>\n",
       "      <td>138</td>\n",
       "      <td>Regular customer</td>\n",
       "      <td>3</td>\n",
       "    </tr>\n",
       "    <tr>\n",
       "      <th>121</th>\n",
       "      <td>138</td>\n",
       "      <td>Regular customer</td>\n",
       "      <td>9</td>\n",
       "    </tr>\n",
       "    <tr>\n",
       "      <th>122</th>\n",
       "      <td>138</td>\n",
       "      <td>Regular customer</td>\n",
       "      <td>10</td>\n",
       "    </tr>\n",
       "    <tr>\n",
       "      <th>123</th>\n",
       "      <td>138</td>\n",
       "      <td>Regular customer</td>\n",
       "      <td>17</td>\n",
       "    </tr>\n",
       "    <tr>\n",
       "      <th>124</th>\n",
       "      <td>138</td>\n",
       "      <td>Regular customer</td>\n",
       "      <td>20</td>\n",
       "    </tr>\n",
       "    <tr>\n",
       "      <th>134</th>\n",
       "      <td>138</td>\n",
       "      <td>Regular customer</td>\n",
       "      <td>14</td>\n",
       "    </tr>\n",
       "    <tr>\n",
       "      <th>135</th>\n",
       "      <td>138</td>\n",
       "      <td>Regular customer</td>\n",
       "      <td>15</td>\n",
       "    </tr>\n",
       "    <tr>\n",
       "      <th>141</th>\n",
       "      <td>138</td>\n",
       "      <td>Regular customer</td>\n",
       "      <td>26</td>\n",
       "    </tr>\n",
       "    <tr>\n",
       "      <th>143</th>\n",
       "      <td>138</td>\n",
       "      <td>Regular customer</td>\n",
       "      <td>29</td>\n",
       "    </tr>\n",
       "    <tr>\n",
       "      <th>144</th>\n",
       "      <td>138</td>\n",
       "      <td>Regular customer</td>\n",
       "      <td>31</td>\n",
       "    </tr>\n",
       "    <tr>\n",
       "      <th>148</th>\n",
       "      <td>709</td>\n",
       "      <td>New customer</td>\n",
       "      <td>2</td>\n",
       "    </tr>\n",
       "    <tr>\n",
       "      <th>149</th>\n",
       "      <td>709</td>\n",
       "      <td>New customer</td>\n",
       "      <td>4</td>\n",
       "    </tr>\n",
       "    <tr>\n",
       "      <th>152</th>\n",
       "      <td>709</td>\n",
       "      <td>New customer</td>\n",
       "      <td>2</td>\n",
       "    </tr>\n",
       "    <tr>\n",
       "      <th>153</th>\n",
       "      <td>709</td>\n",
       "      <td>New customer</td>\n",
       "      <td>4</td>\n",
       "    </tr>\n",
       "    <tr>\n",
       "      <th>155</th>\n",
       "      <td>709</td>\n",
       "      <td>New customer</td>\n",
       "      <td>2</td>\n",
       "    </tr>\n",
       "    <tr>\n",
       "      <th>156</th>\n",
       "      <td>709</td>\n",
       "      <td>New customer</td>\n",
       "      <td>2</td>\n",
       "    </tr>\n",
       "  </tbody>\n",
       "</table>\n",
       "</div>"
      ],
      "text/plain": [
       "     user_id      loyalty_flag  order_number\n",
       "0        138  Regular customer            28\n",
       "2        138  Regular customer             1\n",
       "3        138  Regular customer            10\n",
       "6        138  Regular customer            23\n",
       "10       138  Regular customer             5\n",
       "12       138  Regular customer             3\n",
       "13       138  Regular customer             1\n",
       "19       138  Regular customer             8\n",
       "21       138  Regular customer            14\n",
       "22       138  Regular customer            15\n",
       "23       138  Regular customer            16\n",
       "28       138  Regular customer            25\n",
       "31       138  Regular customer             1\n",
       "42       138  Regular customer             9\n",
       "50       138  Regular customer             1\n",
       "56       138  Regular customer            13\n",
       "58       138  Regular customer            16\n",
       "60       138  Regular customer             2\n",
       "64       138  Regular customer             7\n",
       "65       138  Regular customer            13\n",
       "70       138  Regular customer            16\n",
       "71       138  Regular customer             1\n",
       "79       138  Regular customer            28\n",
       "85       138  Regular customer            14\n",
       "87       138  Regular customer             3\n",
       "89       138  Regular customer            10\n",
       "93       138  Regular customer             7\n",
       "103      138  Regular customer            15\n",
       "104      138  Regular customer            27\n",
       "107      138  Regular customer            14\n",
       "109      138  Regular customer            26\n",
       "114      138  Regular customer            13\n",
       "115      138  Regular customer            17\n",
       "117      138  Regular customer            31\n",
       "119      138  Regular customer             3\n",
       "121      138  Regular customer             9\n",
       "122      138  Regular customer            10\n",
       "123      138  Regular customer            17\n",
       "124      138  Regular customer            20\n",
       "134      138  Regular customer            14\n",
       "135      138  Regular customer            15\n",
       "141      138  Regular customer            26\n",
       "143      138  Regular customer            29\n",
       "144      138  Regular customer            31\n",
       "148      709      New customer             2\n",
       "149      709      New customer             4\n",
       "152      709      New customer             2\n",
       "153      709      New customer             4\n",
       "155      709      New customer             2\n",
       "156      709      New customer             2"
      ]
     },
     "execution_count": 36,
     "metadata": {},
     "output_type": "execute_result"
    }
   ],
   "source": [
    "# check the multiple columns\n",
    "\n",
    "df_4[['user_id', 'loyalty_flag', 'order_number']].head(50)"
   ]
  },
  {
   "cell_type": "code",
   "execution_count": 37,
   "id": "6af569f7",
   "metadata": {
    "scrolled": true
   },
   "outputs": [
    {
     "data": {
      "text/html": [
       "<div>\n",
       "<style scoped>\n",
       "    .dataframe tbody tr th:only-of-type {\n",
       "        vertical-align: middle;\n",
       "    }\n",
       "\n",
       "    .dataframe tbody tr th {\n",
       "        vertical-align: top;\n",
       "    }\n",
       "\n",
       "    .dataframe thead tr th {\n",
       "        text-align: left;\n",
       "    }\n",
       "\n",
       "    .dataframe thead tr:last-of-type th {\n",
       "        text-align: right;\n",
       "    }\n",
       "</style>\n",
       "<table border=\"1\" class=\"dataframe\">\n",
       "  <thead>\n",
       "    <tr>\n",
       "      <th></th>\n",
       "      <th colspan=\"3\" halign=\"left\">order_number</th>\n",
       "    </tr>\n",
       "    <tr>\n",
       "      <th></th>\n",
       "      <th>mean</th>\n",
       "      <th>min</th>\n",
       "      <th>max</th>\n",
       "    </tr>\n",
       "    <tr>\n",
       "      <th>loyalty_flag</th>\n",
       "      <th></th>\n",
       "      <th></th>\n",
       "      <th></th>\n",
       "    </tr>\n",
       "  </thead>\n",
       "  <tbody>\n",
       "    <tr>\n",
       "      <th>Loyal customer</th>\n",
       "      <td>30.716908</td>\n",
       "      <td>1</td>\n",
       "      <td>99</td>\n",
       "    </tr>\n",
       "    <tr>\n",
       "      <th>New customer</th>\n",
       "      <td>4.310965</td>\n",
       "      <td>1</td>\n",
       "      <td>12</td>\n",
       "    </tr>\n",
       "    <tr>\n",
       "      <th>Regular customer</th>\n",
       "      <td>12.036969</td>\n",
       "      <td>1</td>\n",
       "      <td>35</td>\n",
       "    </tr>\n",
       "  </tbody>\n",
       "</table>\n",
       "</div>"
      ],
      "text/plain": [
       "                 order_number        \n",
       "                         mean min max\n",
       "loyalty_flag                         \n",
       "Loyal customer      30.716908   1  99\n",
       "New customer         4.310965   1  12\n",
       "Regular customer    12.036969   1  35"
      ]
     },
     "execution_count": 37,
     "metadata": {},
     "output_type": "execute_result"
    }
   ],
   "source": [
    "df_4.groupby('loyalty_flag').agg({'order_number': ['mean', 'min', 'max']})"
   ]
  },
  {
   "cell_type": "code",
   "execution_count": 38,
   "id": "854232cf",
   "metadata": {},
   "outputs": [
    {
     "data": {
      "text/html": [
       "<div>\n",
       "<style scoped>\n",
       "    .dataframe tbody tr th:only-of-type {\n",
       "        vertical-align: middle;\n",
       "    }\n",
       "\n",
       "    .dataframe tbody tr th {\n",
       "        vertical-align: top;\n",
       "    }\n",
       "\n",
       "    .dataframe thead tr th {\n",
       "        text-align: left;\n",
       "    }\n",
       "\n",
       "    .dataframe thead tr:last-of-type th {\n",
       "        text-align: right;\n",
       "    }\n",
       "</style>\n",
       "<table border=\"1\" class=\"dataframe\">\n",
       "  <thead>\n",
       "    <tr>\n",
       "      <th></th>\n",
       "      <th colspan=\"3\" halign=\"left\">order_number</th>\n",
       "    </tr>\n",
       "    <tr>\n",
       "      <th></th>\n",
       "      <th>mean</th>\n",
       "      <th>min</th>\n",
       "      <th>max</th>\n",
       "    </tr>\n",
       "    <tr>\n",
       "      <th>loyalty_flag</th>\n",
       "      <th></th>\n",
       "      <th></th>\n",
       "      <th></th>\n",
       "    </tr>\n",
       "  </thead>\n",
       "  <tbody>\n",
       "    <tr>\n",
       "      <th>Loyal customer</th>\n",
       "      <td>32.639724</td>\n",
       "      <td>1</td>\n",
       "      <td>99</td>\n",
       "    </tr>\n",
       "    <tr>\n",
       "      <th>New customer</th>\n",
       "      <td>3.806988</td>\n",
       "      <td>1</td>\n",
       "      <td>10</td>\n",
       "    </tr>\n",
       "    <tr>\n",
       "      <th>Regular customer</th>\n",
       "      <td>12.347100</td>\n",
       "      <td>1</td>\n",
       "      <td>40</td>\n",
       "    </tr>\n",
       "  </tbody>\n",
       "</table>\n",
       "</div>"
      ],
      "text/plain": [
       "                 order_number        \n",
       "                         mean min max\n",
       "loyalty_flag                         \n",
       "Loyal customer      32.639724   1  99\n",
       "New customer         3.806988   1  10\n",
       "Regular customer    12.347100   1  40"
      ]
     },
     "execution_count": 38,
     "metadata": {},
     "output_type": "execute_result"
    }
   ],
   "source": [
    "# compare the loyalty_flag statistics with the main data frame cop_merged\n",
    "\n",
    "merged_cop.groupby('loyalty_flag').agg({'order_number': ['mean', 'min', 'max']})"
   ]
  },
  {
   "cell_type": "code",
   "execution_count": 39,
   "id": "cca45f37",
   "metadata": {
    "scrolled": true
   },
   "outputs": [
    {
     "data": {
      "text/plain": [
       "Regular customer    3750421\n",
       "Loyal customer      3630245\n",
       "New customer        2349063\n",
       "Name: loyalty_flag, dtype: int64"
      ]
     },
     "execution_count": 39,
     "metadata": {},
     "output_type": "execute_result"
    }
   ],
   "source": [
    "df_4['loyalty_flag'].value_counts()"
   ]
  },
  {
   "cell_type": "code",
   "execution_count": 40,
   "id": "8ef6e5fa",
   "metadata": {},
   "outputs": [
    {
     "data": {
      "text/plain": [
       "Regular customer    15891077\n",
       "Loyal customer      10293737\n",
       "New customer         6249398\n",
       "Name: loyalty_flag, dtype: int64"
      ]
     },
     "execution_count": 40,
     "metadata": {},
     "output_type": "execute_result"
    }
   ],
   "source": [
    " # compare the loyalty groups frequencies with the main data frame merged_cop\n",
    "    \n",
    "merged_cop['loyalty_flag'].value_counts()"
   ]
  },
  {
   "cell_type": "code",
   "execution_count": 41,
   "id": "36005b8e",
   "metadata": {
    "scrolled": true
   },
   "outputs": [
    {
     "data": {
      "text/plain": [
       "<AxesSubplot:>"
      ]
     },
     "execution_count": 41,
     "metadata": {},
     "output_type": "execute_result"
    },
    {
     "data": {
      "image/png": "[encoded data removed]",
      "text/plain": [
       "<Figure size 432x288 with 1 Axes>"
      ]
     },
     "metadata": {
      "needs_background": "light"
     },
     "output_type": "display_data"
    }
   ],
   "source": [
    "# create the bar chart for loyalty_flag - the sample data frame (task 4)\n",
    "\n",
    "df_4['loyalty_flag'].value_counts().plot.bar()"
   ]
  },
  {
   "cell_type": "code",
   "execution_count": 42,
   "id": "084223f7",
   "metadata": {},
   "outputs": [
    {
     "data": {
      "image/png": "[encoded data removed]",
      "text/plain": [
       "<Figure size 432x288 with 1 Axes>"
      ]
     },
     "metadata": {
      "needs_background": "light"
     },
     "output_type": "display_data"
    }
   ],
   "source": [
    "bar_1 = df_4['loyalty_flag'].value_counts().plot.bar(color = ['green','blue','red'])"
   ]
  },
  {
   "cell_type": "code",
   "execution_count": 43,
   "id": "0283dffe",
   "metadata": {},
   "outputs": [],
   "source": [
    "bar_1.figure.savefig(os.path.join(path, '04 Analysis','Visualisations', 'bar_1_orders_loyalty.png'))"
   ]
  },
  {
   "cell_type": "code",
   "execution_count": 44,
   "id": "14070a86",
   "metadata": {},
   "outputs": [
    {
     "data": {
      "text/plain": [
       "<AxesSubplot:>"
      ]
     },
     "execution_count": 44,
     "metadata": {},
     "output_type": "execute_result"
    },
    {
     "data": {
      "image/png": "[encoded data removed]",
      "text/plain": [
       "<Figure size 432x288 with 1 Axes>"
      ]
     },
     "metadata": {
      "needs_background": "light"
     },
     "output_type": "display_data"
    }
   ],
   "source": [
    "# create the bar chart for loyalty_flag - the main data frame (task 4)\n",
    "\n",
    "merged_cop['loyalty_flag'].value_counts().plot.bar()"
   ]
  },
  {
   "cell_type": "code",
   "execution_count": 45,
   "id": "1a14c482",
   "metadata": {
    "scrolled": true
   },
   "outputs": [
    {
     "data": {
      "image/png": "[encoded data removed]",
      "text/plain": [
       "<Figure size 432x288 with 1 Axes>"
      ]
     },
     "metadata": {
      "needs_background": "light"
     },
     "output_type": "display_data"
    }
   ],
   "source": [
    "bar_2 = merged_cop['loyalty_flag'].value_counts().plot.bar(color = ['purple','pink','orange'])"
   ]
  },
  {
   "cell_type": "code",
   "execution_count": 46,
   "id": "093be2db",
   "metadata": {},
   "outputs": [],
   "source": [
    "bar_2.figure.savefig(os.path.join(path, '04 Analysis','Visualisations', 'bar_2_orders_loyalty.png'))"
   ]
  },
  {
   "cell_type": "markdown",
   "id": "67603e3f",
   "metadata": {},
   "source": [
    "#### The bar chart shows the number of customers in each group; the regular customers are the biggest group as expected but the number of loyal customers are also high."
   ]
  },
  {
   "cell_type": "markdown",
   "id": "7b6fdb8d",
   "metadata": {},
   "source": [
    "### 3.4 Links Between Age and Family Status and Dependants (Line Chart)"
   ]
  },
  {
   "cell_type": "code",
   "execution_count": 47,
   "id": "9a191f79",
   "metadata": {},
   "outputs": [],
   "source": [
    "# create the subset from small data frame with the age, the marital status, the number of dependants and income\n",
    "\n",
    "df_5 = small[['age','marital_status','no_dependants','income']]"
   ]
  },
  {
   "cell_type": "code",
   "execution_count": 48,
   "id": "f12c9f4f",
   "metadata": {
    "scrolled": true
   },
   "outputs": [
    {
     "data": {
      "text/html": [
       "<div>\n",
       "<style scoped>\n",
       "    .dataframe tbody tr th:only-of-type {\n",
       "        vertical-align: middle;\n",
       "    }\n",
       "\n",
       "    .dataframe tbody tr th {\n",
       "        vertical-align: top;\n",
       "    }\n",
       "\n",
       "    .dataframe thead th {\n",
       "        text-align: right;\n",
       "    }\n",
       "</style>\n",
       "<table border=\"1\" class=\"dataframe\">\n",
       "  <thead>\n",
       "    <tr style=\"text-align: right;\">\n",
       "      <th></th>\n",
       "      <th>age</th>\n",
       "      <th>marital_status</th>\n",
       "      <th>no_dependants</th>\n",
       "      <th>income</th>\n",
       "    </tr>\n",
       "  </thead>\n",
       "  <tbody>\n",
       "    <tr>\n",
       "      <th>0</th>\n",
       "      <td>81</td>\n",
       "      <td>married</td>\n",
       "      <td>1</td>\n",
       "      <td>49620</td>\n",
       "    </tr>\n",
       "    <tr>\n",
       "      <th>2</th>\n",
       "      <td>81</td>\n",
       "      <td>married</td>\n",
       "      <td>1</td>\n",
       "      <td>49620</td>\n",
       "    </tr>\n",
       "    <tr>\n",
       "      <th>3</th>\n",
       "      <td>81</td>\n",
       "      <td>married</td>\n",
       "      <td>1</td>\n",
       "      <td>49620</td>\n",
       "    </tr>\n",
       "    <tr>\n",
       "      <th>6</th>\n",
       "      <td>81</td>\n",
       "      <td>married</td>\n",
       "      <td>1</td>\n",
       "      <td>49620</td>\n",
       "    </tr>\n",
       "    <tr>\n",
       "      <th>10</th>\n",
       "      <td>81</td>\n",
       "      <td>married</td>\n",
       "      <td>1</td>\n",
       "      <td>49620</td>\n",
       "    </tr>\n",
       "    <tr>\n",
       "      <th>12</th>\n",
       "      <td>81</td>\n",
       "      <td>married</td>\n",
       "      <td>1</td>\n",
       "      <td>49620</td>\n",
       "    </tr>\n",
       "    <tr>\n",
       "      <th>13</th>\n",
       "      <td>81</td>\n",
       "      <td>married</td>\n",
       "      <td>1</td>\n",
       "      <td>49620</td>\n",
       "    </tr>\n",
       "    <tr>\n",
       "      <th>19</th>\n",
       "      <td>81</td>\n",
       "      <td>married</td>\n",
       "      <td>1</td>\n",
       "      <td>49620</td>\n",
       "    </tr>\n",
       "    <tr>\n",
       "      <th>21</th>\n",
       "      <td>81</td>\n",
       "      <td>married</td>\n",
       "      <td>1</td>\n",
       "      <td>49620</td>\n",
       "    </tr>\n",
       "    <tr>\n",
       "      <th>22</th>\n",
       "      <td>81</td>\n",
       "      <td>married</td>\n",
       "      <td>1</td>\n",
       "      <td>49620</td>\n",
       "    </tr>\n",
       "    <tr>\n",
       "      <th>23</th>\n",
       "      <td>81</td>\n",
       "      <td>married</td>\n",
       "      <td>1</td>\n",
       "      <td>49620</td>\n",
       "    </tr>\n",
       "    <tr>\n",
       "      <th>28</th>\n",
       "      <td>81</td>\n",
       "      <td>married</td>\n",
       "      <td>1</td>\n",
       "      <td>49620</td>\n",
       "    </tr>\n",
       "    <tr>\n",
       "      <th>31</th>\n",
       "      <td>81</td>\n",
       "      <td>married</td>\n",
       "      <td>1</td>\n",
       "      <td>49620</td>\n",
       "    </tr>\n",
       "    <tr>\n",
       "      <th>42</th>\n",
       "      <td>81</td>\n",
       "      <td>married</td>\n",
       "      <td>1</td>\n",
       "      <td>49620</td>\n",
       "    </tr>\n",
       "    <tr>\n",
       "      <th>50</th>\n",
       "      <td>81</td>\n",
       "      <td>married</td>\n",
       "      <td>1</td>\n",
       "      <td>49620</td>\n",
       "    </tr>\n",
       "    <tr>\n",
       "      <th>56</th>\n",
       "      <td>81</td>\n",
       "      <td>married</td>\n",
       "      <td>1</td>\n",
       "      <td>49620</td>\n",
       "    </tr>\n",
       "    <tr>\n",
       "      <th>58</th>\n",
       "      <td>81</td>\n",
       "      <td>married</td>\n",
       "      <td>1</td>\n",
       "      <td>49620</td>\n",
       "    </tr>\n",
       "    <tr>\n",
       "      <th>60</th>\n",
       "      <td>81</td>\n",
       "      <td>married</td>\n",
       "      <td>1</td>\n",
       "      <td>49620</td>\n",
       "    </tr>\n",
       "    <tr>\n",
       "      <th>64</th>\n",
       "      <td>81</td>\n",
       "      <td>married</td>\n",
       "      <td>1</td>\n",
       "      <td>49620</td>\n",
       "    </tr>\n",
       "    <tr>\n",
       "      <th>65</th>\n",
       "      <td>81</td>\n",
       "      <td>married</td>\n",
       "      <td>1</td>\n",
       "      <td>49620</td>\n",
       "    </tr>\n",
       "  </tbody>\n",
       "</table>\n",
       "</div>"
      ],
      "text/plain": [
       "    age marital_status  no_dependants  income\n",
       "0    81        married              1   49620\n",
       "2    81        married              1   49620\n",
       "3    81        married              1   49620\n",
       "6    81        married              1   49620\n",
       "10   81        married              1   49620\n",
       "12   81        married              1   49620\n",
       "13   81        married              1   49620\n",
       "19   81        married              1   49620\n",
       "21   81        married              1   49620\n",
       "22   81        married              1   49620\n",
       "23   81        married              1   49620\n",
       "28   81        married              1   49620\n",
       "31   81        married              1   49620\n",
       "42   81        married              1   49620\n",
       "50   81        married              1   49620\n",
       "56   81        married              1   49620\n",
       "58   81        married              1   49620\n",
       "60   81        married              1   49620\n",
       "64   81        married              1   49620\n",
       "65   81        married              1   49620"
      ]
     },
     "execution_count": 48,
     "metadata": {},
     "output_type": "execute_result"
    }
   ],
   "source": [
    "df_5.head(20)"
   ]
  },
  {
   "cell_type": "code",
   "execution_count": 49,
   "id": "3424a4e4",
   "metadata": {},
   "outputs": [
    {
     "data": {
      "text/html": [
       "<div>\n",
       "<style scoped>\n",
       "    .dataframe tbody tr th:only-of-type {\n",
       "        vertical-align: middle;\n",
       "    }\n",
       "\n",
       "    .dataframe tbody tr th {\n",
       "        vertical-align: top;\n",
       "    }\n",
       "\n",
       "    .dataframe thead tr th {\n",
       "        text-align: left;\n",
       "    }\n",
       "\n",
       "    .dataframe thead tr:last-of-type th {\n",
       "        text-align: right;\n",
       "    }\n",
       "</style>\n",
       "<table border=\"1\" class=\"dataframe\">\n",
       "  <thead>\n",
       "    <tr>\n",
       "      <th></th>\n",
       "      <th colspan=\"3\" halign=\"left\">no_dependants</th>\n",
       "    </tr>\n",
       "    <tr>\n",
       "      <th></th>\n",
       "      <th>mean</th>\n",
       "      <th>min</th>\n",
       "      <th>max</th>\n",
       "    </tr>\n",
       "    <tr>\n",
       "      <th>marital_status</th>\n",
       "      <th></th>\n",
       "      <th></th>\n",
       "      <th></th>\n",
       "    </tr>\n",
       "  </thead>\n",
       "  <tbody>\n",
       "    <tr>\n",
       "      <th>divorced/widowed</th>\n",
       "      <td>0.000000</td>\n",
       "      <td>0</td>\n",
       "      <td>0</td>\n",
       "    </tr>\n",
       "    <tr>\n",
       "      <th>living with parents and siblings</th>\n",
       "      <td>1.988932</td>\n",
       "      <td>1</td>\n",
       "      <td>3</td>\n",
       "    </tr>\n",
       "    <tr>\n",
       "      <th>married</th>\n",
       "      <td>2.002886</td>\n",
       "      <td>1</td>\n",
       "      <td>3</td>\n",
       "    </tr>\n",
       "    <tr>\n",
       "      <th>single</th>\n",
       "      <td>0.000000</td>\n",
       "      <td>0</td>\n",
       "      <td>0</td>\n",
       "    </tr>\n",
       "  </tbody>\n",
       "</table>\n",
       "</div>"
      ],
      "text/plain": [
       "                                 no_dependants        \n",
       "                                          mean min max\n",
       "marital_status                                        \n",
       "divorced/widowed                      0.000000   0   0\n",
       "living with parents and siblings      1.988932   1   3\n",
       "married                               2.002886   1   3\n",
       "single                                0.000000   0   0"
      ]
     },
     "execution_count": 49,
     "metadata": {},
     "output_type": "execute_result"
    }
   ],
   "source": [
    "# performing multiple aggregations - means, max and min for the number of dependants based on the marital status\n",
    "\n",
    "df_5.groupby('marital_status').agg({'no_dependants': ['mean', 'min', 'max']})"
   ]
  },
  {
   "cell_type": "code",
   "execution_count": 50,
   "id": "dddf5063",
   "metadata": {
    "scrolled": true
   },
   "outputs": [
    {
     "data": {
      "text/html": [
       "<div>\n",
       "<style scoped>\n",
       "    .dataframe tbody tr th:only-of-type {\n",
       "        vertical-align: middle;\n",
       "    }\n",
       "\n",
       "    .dataframe tbody tr th {\n",
       "        vertical-align: top;\n",
       "    }\n",
       "\n",
       "    .dataframe thead tr th {\n",
       "        text-align: left;\n",
       "    }\n",
       "\n",
       "    .dataframe thead tr:last-of-type th {\n",
       "        text-align: right;\n",
       "    }\n",
       "</style>\n",
       "<table border=\"1\" class=\"dataframe\">\n",
       "  <thead>\n",
       "    <tr>\n",
       "      <th></th>\n",
       "      <th colspan=\"3\" halign=\"left\">age</th>\n",
       "    </tr>\n",
       "    <tr>\n",
       "      <th></th>\n",
       "      <th>mean</th>\n",
       "      <th>min</th>\n",
       "      <th>max</th>\n",
       "    </tr>\n",
       "    <tr>\n",
       "      <th>marital_status</th>\n",
       "      <th></th>\n",
       "      <th></th>\n",
       "      <th></th>\n",
       "    </tr>\n",
       "  </thead>\n",
       "  <tbody>\n",
       "    <tr>\n",
       "      <th>divorced/widowed</th>\n",
       "      <td>70.516406</td>\n",
       "      <td>60</td>\n",
       "      <td>81</td>\n",
       "    </tr>\n",
       "    <tr>\n",
       "      <th>living with parents and siblings</th>\n",
       "      <td>19.504714</td>\n",
       "      <td>18</td>\n",
       "      <td>21</td>\n",
       "    </tr>\n",
       "    <tr>\n",
       "      <th>married</th>\n",
       "      <td>51.490205</td>\n",
       "      <td>22</td>\n",
       "      <td>81</td>\n",
       "    </tr>\n",
       "    <tr>\n",
       "      <th>single</th>\n",
       "      <td>38.602440</td>\n",
       "      <td>18</td>\n",
       "      <td>59</td>\n",
       "    </tr>\n",
       "  </tbody>\n",
       "</table>\n",
       "</div>"
      ],
      "text/plain": [
       "                                        age        \n",
       "                                       mean min max\n",
       "marital_status                                     \n",
       "divorced/widowed                  70.516406  60  81\n",
       "living with parents and siblings  19.504714  18  21\n",
       "married                           51.490205  22  81\n",
       "single                            38.602440  18  59"
      ]
     },
     "execution_count": 50,
     "metadata": {},
     "output_type": "execute_result"
    }
   ],
   "source": [
    "# performing multiple aggregations - means, max and min for age based on the marital status\n",
    "\n",
    "df_5.groupby('marital_status').agg({'age': ['mean', 'min', 'max']})"
   ]
  },
  {
   "cell_type": "code",
   "execution_count": 51,
   "id": "5e8416df",
   "metadata": {},
   "outputs": [
    {
     "data": {
      "text/plain": [
       "3    2442123\n",
       "2    2430303\n",
       "0    2429744\n",
       "1    2427559\n",
       "Name: no_dependants, dtype: int64"
      ]
     },
     "execution_count": 51,
     "metadata": {},
     "output_type": "execute_result"
    }
   ],
   "source": [
    "df_5['no_dependants'].value_counts()"
   ]
  },
  {
   "cell_type": "code",
   "execution_count": 52,
   "id": "ddd420a0",
   "metadata": {
    "scrolled": false
   },
   "outputs": [
    {
     "data": {
      "image/png": "[encoded data removed]",
      "text/plain": [
       "<Figure size 432x288 with 1 Axes>"
      ]
     },
     "metadata": {
      "needs_background": "light"
     },
     "output_type": "display_data"
    }
   ],
   "source": [
    "# create line chart for df_5; age and number of dependants (task 6)\n",
    "\n",
    "line = sns.lineplot(data = df_5, x = 'age',y = 'no_dependants')"
   ]
  },
  {
   "cell_type": "markdown",
   "id": "9013d220",
   "metadata": {},
   "source": [
    "#### The line chart shows that the number of dependants vary between 1.43 and 1.57. There are variances on number of dependants in each age group. Based on this data the age does not provide any indication for the number of dependants. "
   ]
  },
  {
   "cell_type": "code",
   "execution_count": 53,
   "id": "73590194",
   "metadata": {
    "scrolled": true
   },
   "outputs": [
    {
     "data": {
      "text/html": [
       "<div>\n",
       "<style scoped>\n",
       "    .dataframe tbody tr th:only-of-type {\n",
       "        vertical-align: middle;\n",
       "    }\n",
       "\n",
       "    .dataframe tbody tr th {\n",
       "        vertical-align: top;\n",
       "    }\n",
       "\n",
       "    .dataframe thead tr th {\n",
       "        text-align: left;\n",
       "    }\n",
       "\n",
       "    .dataframe thead tr:last-of-type th {\n",
       "        text-align: right;\n",
       "    }\n",
       "</style>\n",
       "<table border=\"1\" class=\"dataframe\">\n",
       "  <thead>\n",
       "    <tr>\n",
       "      <th></th>\n",
       "      <th colspan=\"3\" halign=\"left\">no_dependants</th>\n",
       "    </tr>\n",
       "    <tr>\n",
       "      <th></th>\n",
       "      <th>mean</th>\n",
       "      <th>min</th>\n",
       "      <th>max</th>\n",
       "    </tr>\n",
       "    <tr>\n",
       "      <th>marital_status</th>\n",
       "      <th></th>\n",
       "      <th></th>\n",
       "      <th></th>\n",
       "    </tr>\n",
       "  </thead>\n",
       "  <tbody>\n",
       "    <tr>\n",
       "      <th>divorced/widowed</th>\n",
       "      <td>0.000000</td>\n",
       "      <td>0</td>\n",
       "      <td>0</td>\n",
       "    </tr>\n",
       "    <tr>\n",
       "      <th>living with parents and siblings</th>\n",
       "      <td>1.988932</td>\n",
       "      <td>1</td>\n",
       "      <td>3</td>\n",
       "    </tr>\n",
       "    <tr>\n",
       "      <th>married</th>\n",
       "      <td>2.002886</td>\n",
       "      <td>1</td>\n",
       "      <td>3</td>\n",
       "    </tr>\n",
       "    <tr>\n",
       "      <th>single</th>\n",
       "      <td>0.000000</td>\n",
       "      <td>0</td>\n",
       "      <td>0</td>\n",
       "    </tr>\n",
       "  </tbody>\n",
       "</table>\n",
       "</div>"
      ],
      "text/plain": [
       "                                 no_dependants        \n",
       "                                          mean min max\n",
       "marital_status                                        \n",
       "divorced/widowed                      0.000000   0   0\n",
       "living with parents and siblings      1.988932   1   3\n",
       "married                               2.002886   1   3\n",
       "single                                0.000000   0   0"
      ]
     },
     "execution_count": 53,
     "metadata": {},
     "output_type": "execute_result"
    }
   ],
   "source": [
    "# grouping the dependant statical data for customers as per their marital status - sample data frame\n",
    "\n",
    "df_5.groupby('marital_status').agg({'no_dependants': ['mean', 'min', 'max']})"
   ]
  },
  {
   "cell_type": "code",
   "execution_count": 54,
   "id": "92fd46b4",
   "metadata": {},
   "outputs": [
    {
     "data": {
      "text/html": [
       "<div>\n",
       "<style scoped>\n",
       "    .dataframe tbody tr th:only-of-type {\n",
       "        vertical-align: middle;\n",
       "    }\n",
       "\n",
       "    .dataframe tbody tr th {\n",
       "        vertical-align: top;\n",
       "    }\n",
       "\n",
       "    .dataframe thead tr th {\n",
       "        text-align: left;\n",
       "    }\n",
       "\n",
       "    .dataframe thead tr:last-of-type th {\n",
       "        text-align: right;\n",
       "    }\n",
       "</style>\n",
       "<table border=\"1\" class=\"dataframe\">\n",
       "  <thead>\n",
       "    <tr>\n",
       "      <th></th>\n",
       "      <th colspan=\"3\" halign=\"left\">no_dependants</th>\n",
       "    </tr>\n",
       "    <tr>\n",
       "      <th></th>\n",
       "      <th>mean</th>\n",
       "      <th>min</th>\n",
       "      <th>max</th>\n",
       "    </tr>\n",
       "    <tr>\n",
       "      <th>marital_status</th>\n",
       "      <th></th>\n",
       "      <th></th>\n",
       "      <th></th>\n",
       "    </tr>\n",
       "  </thead>\n",
       "  <tbody>\n",
       "    <tr>\n",
       "      <th>divorced/widowed</th>\n",
       "      <td>0.000000</td>\n",
       "      <td>0</td>\n",
       "      <td>0</td>\n",
       "    </tr>\n",
       "    <tr>\n",
       "      <th>living with parents and siblings</th>\n",
       "      <td>1.988648</td>\n",
       "      <td>1</td>\n",
       "      <td>3</td>\n",
       "    </tr>\n",
       "    <tr>\n",
       "      <th>married</th>\n",
       "      <td>2.003145</td>\n",
       "      <td>1</td>\n",
       "      <td>3</td>\n",
       "    </tr>\n",
       "    <tr>\n",
       "      <th>single</th>\n",
       "      <td>0.000000</td>\n",
       "      <td>0</td>\n",
       "      <td>0</td>\n",
       "    </tr>\n",
       "  </tbody>\n",
       "</table>\n",
       "</div>"
      ],
      "text/plain": [
       "                                 no_dependants        \n",
       "                                          mean min max\n",
       "marital_status                                        \n",
       "divorced/widowed                      0.000000   0   0\n",
       "living with parents and siblings      1.988648   1   3\n",
       "married                               2.003145   1   3\n",
       "single                                0.000000   0   0"
      ]
     },
     "execution_count": 54,
     "metadata": {},
     "output_type": "execute_result"
    }
   ],
   "source": [
    "# checking the code for the main data frame\n",
    "\n",
    "merged_cop.groupby('marital_status').agg({'no_dependants': ['mean', 'min', 'max']})"
   ]
  },
  {
   "cell_type": "code",
   "execution_count": 55,
   "id": "f6a309a3",
   "metadata": {
    "scrolled": true
   },
   "outputs": [
    {
     "data": {
      "image/png": "[encoded data removed]",
      "text/plain": [
       "<Figure size 432x288 with 1 Axes>"
      ]
     },
     "metadata": {
      "needs_background": "light"
     },
     "output_type": "display_data"
    }
   ],
   "source": [
    "# create line chart for df_5 data; marital status and number of dependants (task 6)\n",
    "\n",
    "line = sns.lineplot(data = df_5, x = 'marital_status',y = 'no_dependants')"
   ]
  },
  {
   "cell_type": "markdown",
   "id": "f639bb97",
   "metadata": {},
   "source": [
    "#### The line chart shows that the number of dependants are approximately 2 for the customers who are married and for the group of \"living with parents or siblings\". As expected the customers who are single would not have many dependants but this data shows they they do not have any dependants. The data also shows that the customers who are widows or divorsed do not report any dependants either. This is likely due to ages of widows/divorsed being recorded as between 60 and 81. \n",
    "\n",
    "#### The data does not capture/record the divorsed / widowed customers who are younger than 60 or those customers who divorsed but have children or are married but do not have children."
   ]
  },
  {
   "cell_type": "markdown",
   "id": "f13f591a",
   "metadata": {},
   "source": [
    "### 3.5 Link Between Age and Spending Power (Scatterplot)"
   ]
  },
  {
   "cell_type": "code",
   "execution_count": 56,
   "id": "687dee4b",
   "metadata": {},
   "outputs": [
    {
     "data": {
      "text/html": [
       "<div>\n",
       "<style scoped>\n",
       "    .dataframe tbody tr th:only-of-type {\n",
       "        vertical-align: middle;\n",
       "    }\n",
       "\n",
       "    .dataframe tbody tr th {\n",
       "        vertical-align: top;\n",
       "    }\n",
       "\n",
       "    .dataframe thead th {\n",
       "        text-align: right;\n",
       "    }\n",
       "</style>\n",
       "<table border=\"1\" class=\"dataframe\">\n",
       "  <thead>\n",
       "    <tr style=\"text-align: right;\">\n",
       "      <th></th>\n",
       "      <th>age</th>\n",
       "      <th>no_dependants</th>\n",
       "      <th>income</th>\n",
       "    </tr>\n",
       "  </thead>\n",
       "  <tbody>\n",
       "    <tr>\n",
       "      <th>count</th>\n",
       "      <td>9.729729e+06</td>\n",
       "      <td>9.729729e+06</td>\n",
       "      <td>9.729729e+06</td>\n",
       "    </tr>\n",
       "    <tr>\n",
       "      <th>mean</th>\n",
       "      <td>4.946742e+01</td>\n",
       "      <td>1.502049e+00</td>\n",
       "      <td>9.944751e+04</td>\n",
       "    </tr>\n",
       "    <tr>\n",
       "      <th>std</th>\n",
       "      <td>1.848453e+01</td>\n",
       "      <td>1.118676e+00</td>\n",
       "      <td>4.308724e+04</td>\n",
       "    </tr>\n",
       "    <tr>\n",
       "      <th>min</th>\n",
       "      <td>1.800000e+01</td>\n",
       "      <td>0.000000e+00</td>\n",
       "      <td>2.590300e+04</td>\n",
       "    </tr>\n",
       "    <tr>\n",
       "      <th>25%</th>\n",
       "      <td>3.300000e+01</td>\n",
       "      <td>1.000000e+00</td>\n",
       "      <td>6.698800e+04</td>\n",
       "    </tr>\n",
       "    <tr>\n",
       "      <th>50%</th>\n",
       "      <td>4.900000e+01</td>\n",
       "      <td>2.000000e+00</td>\n",
       "      <td>9.662600e+04</td>\n",
       "    </tr>\n",
       "    <tr>\n",
       "      <th>75%</th>\n",
       "      <td>6.500000e+01</td>\n",
       "      <td>3.000000e+00</td>\n",
       "      <td>1.279130e+05</td>\n",
       "    </tr>\n",
       "    <tr>\n",
       "      <th>max</th>\n",
       "      <td>8.100000e+01</td>\n",
       "      <td>3.000000e+00</td>\n",
       "      <td>5.939010e+05</td>\n",
       "    </tr>\n",
       "  </tbody>\n",
       "</table>\n",
       "</div>"
      ],
      "text/plain": [
       "                age  no_dependants        income\n",
       "count  9.729729e+06   9.729729e+06  9.729729e+06\n",
       "mean   4.946742e+01   1.502049e+00  9.944751e+04\n",
       "std    1.848453e+01   1.118676e+00  4.308724e+04\n",
       "min    1.800000e+01   0.000000e+00  2.590300e+04\n",
       "25%    3.300000e+01   1.000000e+00  6.698800e+04\n",
       "50%    4.900000e+01   2.000000e+00  9.662600e+04\n",
       "75%    6.500000e+01   3.000000e+00  1.279130e+05\n",
       "max    8.100000e+01   3.000000e+00  5.939010e+05"
      ]
     },
     "execution_count": 56,
     "metadata": {},
     "output_type": "execute_result"
    }
   ],
   "source": [
    "df_5.describe()"
   ]
  },
  {
   "cell_type": "code",
   "execution_count": 57,
   "id": "654b5802",
   "metadata": {
    "scrolled": false
   },
   "outputs": [
    {
     "data": {
      "text/html": [
       "<div>\n",
       "<style scoped>\n",
       "    .dataframe tbody tr th:only-of-type {\n",
       "        vertical-align: middle;\n",
       "    }\n",
       "\n",
       "    .dataframe tbody tr th {\n",
       "        vertical-align: top;\n",
       "    }\n",
       "\n",
       "    .dataframe thead tr th {\n",
       "        text-align: left;\n",
       "    }\n",
       "\n",
       "    .dataframe thead tr:last-of-type th {\n",
       "        text-align: right;\n",
       "    }\n",
       "</style>\n",
       "<table border=\"1\" class=\"dataframe\">\n",
       "  <thead>\n",
       "    <tr>\n",
       "      <th></th>\n",
       "      <th colspan=\"3\" halign=\"left\">income</th>\n",
       "    </tr>\n",
       "    <tr>\n",
       "      <th></th>\n",
       "      <th>mean</th>\n",
       "      <th>min</th>\n",
       "      <th>max</th>\n",
       "    </tr>\n",
       "    <tr>\n",
       "      <th>age</th>\n",
       "      <th></th>\n",
       "      <th></th>\n",
       "      <th></th>\n",
       "    </tr>\n",
       "  </thead>\n",
       "  <tbody>\n",
       "    <tr>\n",
       "      <th>18</th>\n",
       "      <td>70458.635982</td>\n",
       "      <td>26067</td>\n",
       "      <td>357226</td>\n",
       "    </tr>\n",
       "    <tr>\n",
       "      <th>19</th>\n",
       "      <td>69733.829639</td>\n",
       "      <td>25972</td>\n",
       "      <td>396364</td>\n",
       "    </tr>\n",
       "    <tr>\n",
       "      <th>20</th>\n",
       "      <td>70834.116566</td>\n",
       "      <td>26024</td>\n",
       "      <td>338939</td>\n",
       "    </tr>\n",
       "    <tr>\n",
       "      <th>21</th>\n",
       "      <td>70624.873390</td>\n",
       "      <td>25937</td>\n",
       "      <td>372571</td>\n",
       "    </tr>\n",
       "    <tr>\n",
       "      <th>22</th>\n",
       "      <td>69883.252811</td>\n",
       "      <td>26070</td>\n",
       "      <td>369192</td>\n",
       "    </tr>\n",
       "    <tr>\n",
       "      <th>...</th>\n",
       "      <td>...</td>\n",
       "      <td>...</td>\n",
       "      <td>...</td>\n",
       "    </tr>\n",
       "    <tr>\n",
       "      <th>77</th>\n",
       "      <td>116609.437522</td>\n",
       "      <td>30031</td>\n",
       "      <td>512331</td>\n",
       "    </tr>\n",
       "    <tr>\n",
       "      <th>78</th>\n",
       "      <td>117204.908276</td>\n",
       "      <td>29113</td>\n",
       "      <td>381735</td>\n",
       "    </tr>\n",
       "    <tr>\n",
       "      <th>79</th>\n",
       "      <td>115346.697290</td>\n",
       "      <td>29330</td>\n",
       "      <td>579169</td>\n",
       "    </tr>\n",
       "    <tr>\n",
       "      <th>80</th>\n",
       "      <td>114453.750095</td>\n",
       "      <td>29045</td>\n",
       "      <td>569253</td>\n",
       "    </tr>\n",
       "    <tr>\n",
       "      <th>81</th>\n",
       "      <td>114994.586891</td>\n",
       "      <td>29738</td>\n",
       "      <td>571932</td>\n",
       "    </tr>\n",
       "  </tbody>\n",
       "</table>\n",
       "<p>64 rows × 3 columns</p>\n",
       "</div>"
      ],
      "text/plain": [
       "            income               \n",
       "              mean    min     max\n",
       "age                              \n",
       "18    70458.635982  26067  357226\n",
       "19    69733.829639  25972  396364\n",
       "20    70834.116566  26024  338939\n",
       "21    70624.873390  25937  372571\n",
       "22    69883.252811  26070  369192\n",
       "..             ...    ...     ...\n",
       "77   116609.437522  30031  512331\n",
       "78   117204.908276  29113  381735\n",
       "79   115346.697290  29330  579169\n",
       "80   114453.750095  29045  569253\n",
       "81   114994.586891  29738  571932\n",
       "\n",
       "[64 rows x 3 columns]"
      ]
     },
     "execution_count": 57,
     "metadata": {},
     "output_type": "execute_result"
    }
   ],
   "source": [
    "# performing multiple aggregations - means, max and min for the number of income based on the age\n",
    "\n",
    "df_5.groupby('age').agg({'income': ['mean', 'min', 'max']})"
   ]
  },
  {
   "cell_type": "code",
   "execution_count": 58,
   "id": "22d15c0c",
   "metadata": {},
   "outputs": [],
   "source": [
    "pd.options.display.max_rows = None"
   ]
  },
  {
   "cell_type": "code",
   "execution_count": 59,
   "id": "becc9fd9",
   "metadata": {},
   "outputs": [
    {
     "data": {
      "text/html": [
       "<div>\n",
       "<style scoped>\n",
       "    .dataframe tbody tr th:only-of-type {\n",
       "        vertical-align: middle;\n",
       "    }\n",
       "\n",
       "    .dataframe tbody tr th {\n",
       "        vertical-align: top;\n",
       "    }\n",
       "\n",
       "    .dataframe thead tr th {\n",
       "        text-align: left;\n",
       "    }\n",
       "\n",
       "    .dataframe thead tr:last-of-type th {\n",
       "        text-align: right;\n",
       "    }\n",
       "</style>\n",
       "<table border=\"1\" class=\"dataframe\">\n",
       "  <thead>\n",
       "    <tr>\n",
       "      <th></th>\n",
       "      <th colspan=\"3\" halign=\"left\">income</th>\n",
       "    </tr>\n",
       "    <tr>\n",
       "      <th></th>\n",
       "      <th>mean</th>\n",
       "      <th>min</th>\n",
       "      <th>max</th>\n",
       "    </tr>\n",
       "    <tr>\n",
       "      <th>age</th>\n",
       "      <th></th>\n",
       "      <th></th>\n",
       "      <th></th>\n",
       "    </tr>\n",
       "  </thead>\n",
       "  <tbody>\n",
       "    <tr>\n",
       "      <th>18</th>\n",
       "      <td>70458.635982</td>\n",
       "      <td>26067</td>\n",
       "      <td>357226</td>\n",
       "    </tr>\n",
       "    <tr>\n",
       "      <th>19</th>\n",
       "      <td>69733.829639</td>\n",
       "      <td>25972</td>\n",
       "      <td>396364</td>\n",
       "    </tr>\n",
       "    <tr>\n",
       "      <th>20</th>\n",
       "      <td>70834.116566</td>\n",
       "      <td>26024</td>\n",
       "      <td>338939</td>\n",
       "    </tr>\n",
       "    <tr>\n",
       "      <th>21</th>\n",
       "      <td>70624.873390</td>\n",
       "      <td>25937</td>\n",
       "      <td>372571</td>\n",
       "    </tr>\n",
       "    <tr>\n",
       "      <th>22</th>\n",
       "      <td>69883.252811</td>\n",
       "      <td>26070</td>\n",
       "      <td>369192</td>\n",
       "    </tr>\n",
       "    <tr>\n",
       "      <th>23</th>\n",
       "      <td>70690.344181</td>\n",
       "      <td>26146</td>\n",
       "      <td>381379</td>\n",
       "    </tr>\n",
       "    <tr>\n",
       "      <th>24</th>\n",
       "      <td>71968.470145</td>\n",
       "      <td>26072</td>\n",
       "      <td>391834</td>\n",
       "    </tr>\n",
       "    <tr>\n",
       "      <th>25</th>\n",
       "      <td>71057.662844</td>\n",
       "      <td>26137</td>\n",
       "      <td>385324</td>\n",
       "    </tr>\n",
       "    <tr>\n",
       "      <th>26</th>\n",
       "      <td>70503.690889</td>\n",
       "      <td>26045</td>\n",
       "      <td>371450</td>\n",
       "    </tr>\n",
       "    <tr>\n",
       "      <th>27</th>\n",
       "      <td>70577.844934</td>\n",
       "      <td>25979</td>\n",
       "      <td>378234</td>\n",
       "    </tr>\n",
       "    <tr>\n",
       "      <th>28</th>\n",
       "      <td>69493.587176</td>\n",
       "      <td>26580</td>\n",
       "      <td>376208</td>\n",
       "    </tr>\n",
       "    <tr>\n",
       "      <th>29</th>\n",
       "      <td>70291.792588</td>\n",
       "      <td>26013</td>\n",
       "      <td>392552</td>\n",
       "    </tr>\n",
       "    <tr>\n",
       "      <th>30</th>\n",
       "      <td>69550.556771</td>\n",
       "      <td>25991</td>\n",
       "      <td>381351</td>\n",
       "    </tr>\n",
       "    <tr>\n",
       "      <th>31</th>\n",
       "      <td>70181.736551</td>\n",
       "      <td>26039</td>\n",
       "      <td>391967</td>\n",
       "    </tr>\n",
       "    <tr>\n",
       "      <th>32</th>\n",
       "      <td>70140.496175</td>\n",
       "      <td>25955</td>\n",
       "      <td>367501</td>\n",
       "    </tr>\n",
       "    <tr>\n",
       "      <th>33</th>\n",
       "      <td>70672.022216</td>\n",
       "      <td>26061</td>\n",
       "      <td>395178</td>\n",
       "    </tr>\n",
       "    <tr>\n",
       "      <th>34</th>\n",
       "      <td>70840.763381</td>\n",
       "      <td>25911</td>\n",
       "      <td>387860</td>\n",
       "    </tr>\n",
       "    <tr>\n",
       "      <th>35</th>\n",
       "      <td>71294.498932</td>\n",
       "      <td>25999</td>\n",
       "      <td>388874</td>\n",
       "    </tr>\n",
       "    <tr>\n",
       "      <th>36</th>\n",
       "      <td>71061.068167</td>\n",
       "      <td>26170</td>\n",
       "      <td>351375</td>\n",
       "    </tr>\n",
       "    <tr>\n",
       "      <th>37</th>\n",
       "      <td>70256.146378</td>\n",
       "      <td>25986</td>\n",
       "      <td>397929</td>\n",
       "    </tr>\n",
       "    <tr>\n",
       "      <th>38</th>\n",
       "      <td>69850.708899</td>\n",
       "      <td>26234</td>\n",
       "      <td>390410</td>\n",
       "    </tr>\n",
       "    <tr>\n",
       "      <th>39</th>\n",
       "      <td>70818.458076</td>\n",
       "      <td>25903</td>\n",
       "      <td>382018</td>\n",
       "    </tr>\n",
       "    <tr>\n",
       "      <th>40</th>\n",
       "      <td>70961.191282</td>\n",
       "      <td>26154</td>\n",
       "      <td>395360</td>\n",
       "    </tr>\n",
       "    <tr>\n",
       "      <th>41</th>\n",
       "      <td>116622.744301</td>\n",
       "      <td>29017</td>\n",
       "      <td>551849</td>\n",
       "    </tr>\n",
       "    <tr>\n",
       "      <th>42</th>\n",
       "      <td>116693.283460</td>\n",
       "      <td>29081</td>\n",
       "      <td>549286</td>\n",
       "    </tr>\n",
       "    <tr>\n",
       "      <th>43</th>\n",
       "      <td>116887.471502</td>\n",
       "      <td>29463</td>\n",
       "      <td>592409</td>\n",
       "    </tr>\n",
       "    <tr>\n",
       "      <th>44</th>\n",
       "      <td>114931.999781</td>\n",
       "      <td>29076</td>\n",
       "      <td>567729</td>\n",
       "    </tr>\n",
       "    <tr>\n",
       "      <th>45</th>\n",
       "      <td>117602.700280</td>\n",
       "      <td>29082</td>\n",
       "      <td>569810</td>\n",
       "    </tr>\n",
       "    <tr>\n",
       "      <th>46</th>\n",
       "      <td>115537.994367</td>\n",
       "      <td>29053</td>\n",
       "      <td>550917</td>\n",
       "    </tr>\n",
       "    <tr>\n",
       "      <th>47</th>\n",
       "      <td>115337.938838</td>\n",
       "      <td>29044</td>\n",
       "      <td>584097</td>\n",
       "    </tr>\n",
       "    <tr>\n",
       "      <th>48</th>\n",
       "      <td>117299.543708</td>\n",
       "      <td>29663</td>\n",
       "      <td>536156</td>\n",
       "    </tr>\n",
       "    <tr>\n",
       "      <th>49</th>\n",
       "      <td>116857.377644</td>\n",
       "      <td>29112</td>\n",
       "      <td>559700</td>\n",
       "    </tr>\n",
       "    <tr>\n",
       "      <th>50</th>\n",
       "      <td>116122.948850</td>\n",
       "      <td>29085</td>\n",
       "      <td>574425</td>\n",
       "    </tr>\n",
       "    <tr>\n",
       "      <th>51</th>\n",
       "      <td>114938.633864</td>\n",
       "      <td>29085</td>\n",
       "      <td>528184</td>\n",
       "    </tr>\n",
       "    <tr>\n",
       "      <th>52</th>\n",
       "      <td>114378.111511</td>\n",
       "      <td>29257</td>\n",
       "      <td>526894</td>\n",
       "    </tr>\n",
       "    <tr>\n",
       "      <th>53</th>\n",
       "      <td>114702.702007</td>\n",
       "      <td>29419</td>\n",
       "      <td>518856</td>\n",
       "    </tr>\n",
       "    <tr>\n",
       "      <th>54</th>\n",
       "      <td>115039.317155</td>\n",
       "      <td>29415</td>\n",
       "      <td>531126</td>\n",
       "    </tr>\n",
       "    <tr>\n",
       "      <th>55</th>\n",
       "      <td>113056.296164</td>\n",
       "      <td>29018</td>\n",
       "      <td>591089</td>\n",
       "    </tr>\n",
       "    <tr>\n",
       "      <th>56</th>\n",
       "      <td>117000.579404</td>\n",
       "      <td>29149</td>\n",
       "      <td>525892</td>\n",
       "    </tr>\n",
       "    <tr>\n",
       "      <th>57</th>\n",
       "      <td>115959.894213</td>\n",
       "      <td>29053</td>\n",
       "      <td>579397</td>\n",
       "    </tr>\n",
       "    <tr>\n",
       "      <th>58</th>\n",
       "      <td>115779.166537</td>\n",
       "      <td>29075</td>\n",
       "      <td>462969</td>\n",
       "    </tr>\n",
       "    <tr>\n",
       "      <th>59</th>\n",
       "      <td>114449.761779</td>\n",
       "      <td>29161</td>\n",
       "      <td>573617</td>\n",
       "    </tr>\n",
       "    <tr>\n",
       "      <th>60</th>\n",
       "      <td>115328.459535</td>\n",
       "      <td>29192</td>\n",
       "      <td>578251</td>\n",
       "    </tr>\n",
       "    <tr>\n",
       "      <th>61</th>\n",
       "      <td>116022.578741</td>\n",
       "      <td>29066</td>\n",
       "      <td>441855</td>\n",
       "    </tr>\n",
       "    <tr>\n",
       "      <th>62</th>\n",
       "      <td>115245.359703</td>\n",
       "      <td>29057</td>\n",
       "      <td>552776</td>\n",
       "    </tr>\n",
       "    <tr>\n",
       "      <th>63</th>\n",
       "      <td>116971.723896</td>\n",
       "      <td>29003</td>\n",
       "      <td>545128</td>\n",
       "    </tr>\n",
       "    <tr>\n",
       "      <th>64</th>\n",
       "      <td>116590.610142</td>\n",
       "      <td>29134</td>\n",
       "      <td>573849</td>\n",
       "    </tr>\n",
       "    <tr>\n",
       "      <th>65</th>\n",
       "      <td>116750.180767</td>\n",
       "      <td>29005</td>\n",
       "      <td>577728</td>\n",
       "    </tr>\n",
       "    <tr>\n",
       "      <th>66</th>\n",
       "      <td>114939.078731</td>\n",
       "      <td>29050</td>\n",
       "      <td>350982</td>\n",
       "    </tr>\n",
       "    <tr>\n",
       "      <th>67</th>\n",
       "      <td>115180.614232</td>\n",
       "      <td>29189</td>\n",
       "      <td>443761</td>\n",
       "    </tr>\n",
       "    <tr>\n",
       "      <th>68</th>\n",
       "      <td>115881.920830</td>\n",
       "      <td>29011</td>\n",
       "      <td>540239</td>\n",
       "    </tr>\n",
       "    <tr>\n",
       "      <th>69</th>\n",
       "      <td>115893.159350</td>\n",
       "      <td>29298</td>\n",
       "      <td>515905</td>\n",
       "    </tr>\n",
       "    <tr>\n",
       "      <th>70</th>\n",
       "      <td>113502.567687</td>\n",
       "      <td>29001</td>\n",
       "      <td>456192</td>\n",
       "    </tr>\n",
       "    <tr>\n",
       "      <th>71</th>\n",
       "      <td>114672.663619</td>\n",
       "      <td>29327</td>\n",
       "      <td>558033</td>\n",
       "    </tr>\n",
       "    <tr>\n",
       "      <th>72</th>\n",
       "      <td>117291.892627</td>\n",
       "      <td>30101</td>\n",
       "      <td>556641</td>\n",
       "    </tr>\n",
       "    <tr>\n",
       "      <th>73</th>\n",
       "      <td>114961.224139</td>\n",
       "      <td>29318</td>\n",
       "      <td>421524</td>\n",
       "    </tr>\n",
       "    <tr>\n",
       "      <th>74</th>\n",
       "      <td>114855.149407</td>\n",
       "      <td>29230</td>\n",
       "      <td>497926</td>\n",
       "    </tr>\n",
       "    <tr>\n",
       "      <th>75</th>\n",
       "      <td>117902.393422</td>\n",
       "      <td>29040</td>\n",
       "      <td>593901</td>\n",
       "    </tr>\n",
       "    <tr>\n",
       "      <th>76</th>\n",
       "      <td>114985.545722</td>\n",
       "      <td>29302</td>\n",
       "      <td>578551</td>\n",
       "    </tr>\n",
       "    <tr>\n",
       "      <th>77</th>\n",
       "      <td>116609.437522</td>\n",
       "      <td>30031</td>\n",
       "      <td>512331</td>\n",
       "    </tr>\n",
       "    <tr>\n",
       "      <th>78</th>\n",
       "      <td>117204.908276</td>\n",
       "      <td>29113</td>\n",
       "      <td>381735</td>\n",
       "    </tr>\n",
       "    <tr>\n",
       "      <th>79</th>\n",
       "      <td>115346.697290</td>\n",
       "      <td>29330</td>\n",
       "      <td>579169</td>\n",
       "    </tr>\n",
       "    <tr>\n",
       "      <th>80</th>\n",
       "      <td>114453.750095</td>\n",
       "      <td>29045</td>\n",
       "      <td>569253</td>\n",
       "    </tr>\n",
       "    <tr>\n",
       "      <th>81</th>\n",
       "      <td>114994.586891</td>\n",
       "      <td>29738</td>\n",
       "      <td>571932</td>\n",
       "    </tr>\n",
       "  </tbody>\n",
       "</table>\n",
       "</div>"
      ],
      "text/plain": [
       "            income               \n",
       "              mean    min     max\n",
       "age                              \n",
       "18    70458.635982  26067  357226\n",
       "19    69733.829639  25972  396364\n",
       "20    70834.116566  26024  338939\n",
       "21    70624.873390  25937  372571\n",
       "22    69883.252811  26070  369192\n",
       "23    70690.344181  26146  381379\n",
       "24    71968.470145  26072  391834\n",
       "25    71057.662844  26137  385324\n",
       "26    70503.690889  26045  371450\n",
       "27    70577.844934  25979  378234\n",
       "28    69493.587176  26580  376208\n",
       "29    70291.792588  26013  392552\n",
       "30    69550.556771  25991  381351\n",
       "31    70181.736551  26039  391967\n",
       "32    70140.496175  25955  367501\n",
       "33    70672.022216  26061  395178\n",
       "34    70840.763381  25911  387860\n",
       "35    71294.498932  25999  388874\n",
       "36    71061.068167  26170  351375\n",
       "37    70256.146378  25986  397929\n",
       "38    69850.708899  26234  390410\n",
       "39    70818.458076  25903  382018\n",
       "40    70961.191282  26154  395360\n",
       "41   116622.744301  29017  551849\n",
       "42   116693.283460  29081  549286\n",
       "43   116887.471502  29463  592409\n",
       "44   114931.999781  29076  567729\n",
       "45   117602.700280  29082  569810\n",
       "46   115537.994367  29053  550917\n",
       "47   115337.938838  29044  584097\n",
       "48   117299.543708  29663  536156\n",
       "49   116857.377644  29112  559700\n",
       "50   116122.948850  29085  574425\n",
       "51   114938.633864  29085  528184\n",
       "52   114378.111511  29257  526894\n",
       "53   114702.702007  29419  518856\n",
       "54   115039.317155  29415  531126\n",
       "55   113056.296164  29018  591089\n",
       "56   117000.579404  29149  525892\n",
       "57   115959.894213  29053  579397\n",
       "58   115779.166537  29075  462969\n",
       "59   114449.761779  29161  573617\n",
       "60   115328.459535  29192  578251\n",
       "61   116022.578741  29066  441855\n",
       "62   115245.359703  29057  552776\n",
       "63   116971.723896  29003  545128\n",
       "64   116590.610142  29134  573849\n",
       "65   116750.180767  29005  577728\n",
       "66   114939.078731  29050  350982\n",
       "67   115180.614232  29189  443761\n",
       "68   115881.920830  29011  540239\n",
       "69   115893.159350  29298  515905\n",
       "70   113502.567687  29001  456192\n",
       "71   114672.663619  29327  558033\n",
       "72   117291.892627  30101  556641\n",
       "73   114961.224139  29318  421524\n",
       "74   114855.149407  29230  497926\n",
       "75   117902.393422  29040  593901\n",
       "76   114985.545722  29302  578551\n",
       "77   116609.437522  30031  512331\n",
       "78   117204.908276  29113  381735\n",
       "79   115346.697290  29330  579169\n",
       "80   114453.750095  29045  569253\n",
       "81   114994.586891  29738  571932"
      ]
     },
     "execution_count": 59,
     "metadata": {},
     "output_type": "execute_result"
    }
   ],
   "source": [
    "df_5.groupby('age').agg({'income': ['mean', 'min', 'max']})"
   ]
  },
  {
   "cell_type": "code",
   "execution_count": 60,
   "id": "9d16fef0",
   "metadata": {},
   "outputs": [
    {
     "data": {
      "text/html": [
       "<div>\n",
       "<style scoped>\n",
       "    .dataframe tbody tr th:only-of-type {\n",
       "        vertical-align: middle;\n",
       "    }\n",
       "\n",
       "    .dataframe tbody tr th {\n",
       "        vertical-align: top;\n",
       "    }\n",
       "\n",
       "    .dataframe thead tr th {\n",
       "        text-align: left;\n",
       "    }\n",
       "\n",
       "    .dataframe thead tr:last-of-type th {\n",
       "        text-align: right;\n",
       "    }\n",
       "</style>\n",
       "<table border=\"1\" class=\"dataframe\">\n",
       "  <thead>\n",
       "    <tr>\n",
       "      <th></th>\n",
       "      <th colspan=\"3\" halign=\"left\">income</th>\n",
       "    </tr>\n",
       "    <tr>\n",
       "      <th></th>\n",
       "      <th>mean</th>\n",
       "      <th>min</th>\n",
       "      <th>max</th>\n",
       "    </tr>\n",
       "    <tr>\n",
       "      <th>marital_status</th>\n",
       "      <th></th>\n",
       "      <th></th>\n",
       "      <th></th>\n",
       "    </tr>\n",
       "  </thead>\n",
       "  <tbody>\n",
       "    <tr>\n",
       "      <th>divorced/widowed</th>\n",
       "      <td>115707.518050</td>\n",
       "      <td>29005</td>\n",
       "      <td>578251</td>\n",
       "    </tr>\n",
       "    <tr>\n",
       "      <th>living with parents and siblings</th>\n",
       "      <td>70702.144974</td>\n",
       "      <td>25937</td>\n",
       "      <td>396364</td>\n",
       "    </tr>\n",
       "    <tr>\n",
       "      <th>married</th>\n",
       "      <td>101323.563070</td>\n",
       "      <td>25911</td>\n",
       "      <td>593901</td>\n",
       "    </tr>\n",
       "    <tr>\n",
       "      <th>single</th>\n",
       "      <td>91346.586379</td>\n",
       "      <td>25903</td>\n",
       "      <td>584097</td>\n",
       "    </tr>\n",
       "  </tbody>\n",
       "</table>\n",
       "</div>"
      ],
      "text/plain": [
       "                                         income               \n",
       "                                           mean    min     max\n",
       "marital_status                                                \n",
       "divorced/widowed                  115707.518050  29005  578251\n",
       "living with parents and siblings   70702.144974  25937  396364\n",
       "married                           101323.563070  25911  593901\n",
       "single                             91346.586379  25903  584097"
      ]
     },
     "execution_count": 60,
     "metadata": {},
     "output_type": "execute_result"
    }
   ],
   "source": [
    "# performing multiple aggregations - means, max and min for income based on the marital status\n",
    "\n",
    "df_5.groupby('marital_status').agg({'income': ['mean', 'min', 'max']})"
   ]
  },
  {
   "cell_type": "code",
   "execution_count": 61,
   "id": "a0458665",
   "metadata": {
    "scrolled": true
   },
   "outputs": [
    {
     "data": {
      "image/png": "[encoded data removed]",
      "text/plain": [
       "<Figure size 432x288 with 1 Axes>"
      ]
     },
     "metadata": {
      "needs_background": "light"
     },
     "output_type": "display_data"
    }
   ],
   "source": [
    "sns_1 = sns.scatterplot(x = 'age', y = 'income',data = df_5)"
   ]
  },
  {
   "cell_type": "code",
   "execution_count": 62,
   "id": "58bb13f3",
   "metadata": {},
   "outputs": [],
   "source": [
    "sns_1.figure.savefig(os.path.join(path, '04 Analysis','Visualisations', 'sns_1_income_age.png'))"
   ]
  },
  {
   "cell_type": "markdown",
   "id": "90e20932",
   "metadata": {},
   "source": [
    "#### The scatterplot shows; \n",
    "#### * The customers who are 41 - 81 years olds have the highest buying power as some of these customers have annual income between 400K and 593K. The customers on their 40s or under do not seem to be earning 400K or more or their income data is not recorded. \n",
    "#### * There are approximately the same number of customers with income of 300-390K in each age group but significantly more customers in their 40s or over whose income is between 200K and 300K than the customers under 40s who have the same income.\n",
    "#### * There are roughly the same number of people with annual income of 100K or less in each age group but there are more customers who are in their 40s and over and earn 100-180K yearly than customers who are under 40s.\n",
    "#### * The summary; As expected the higher the age, the more earning power the person generally has. There are high number of customers who are 40 and under and whose annual income is no more than 200K and fewer customers who are under 40 and earn more than 200K. Another interesting finding is that the retirement age (65s and over) do not generally reduce the income rate as one could have expected."
   ]
  },
  {
   "cell_type": "markdown",
   "id": "295f6c92",
   "metadata": {},
   "source": [
    "### 4. Exporting Data\n"
   ]
  },
  {
   "cell_type": "code",
   "execution_count": 64,
   "id": "f7ffc0c8",
   "metadata": {},
   "outputs": [],
   "source": [
    "df_5.to_pickle(os.path.join(path, '02 Data','Prepared Data', 'final_sample.pkl'))"
   ]
  },
  {
   "cell_type": "code",
   "execution_count": null,
   "id": "21dc3141",
   "metadata": {},
   "outputs": [],
   "source": []
  }
 ],
 "metadata": {
  "kernelspec": {
   "display_name": "Python 3",
   "language": "python",
   "name": "python3"
  },
  "language_info": {
   "codemirror_mode": {
    "name": "ipython",
    "version": 3
   },
   "file_extension": ".py",
   "mimetype": "text/x-python",
   "name": "python",
   "nbconvert_exporter": "python",
   "pygments_lexer": "ipython3",
   "version": "3.8.8"
  }
 },
 "nbformat": 4,
 "nbformat_minor": 5
}
